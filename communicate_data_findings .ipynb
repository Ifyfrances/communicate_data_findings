{
 "cells": [
  {
   "cell_type": "markdown",
   "metadata": {},
   "source": [
    "### DATA VISUALISATION AND INTERPRETATION FOR FORD GO BIKE DATA\n",
    "\n",
    "\n",
    "\n",
    "**By Ifeoma Onyiuke**"
   ]
  },
  {
   "cell_type": "markdown",
   "metadata": {},
   "source": [
    "### TABLE OF CONTENTS\n",
    "\n",
    "* [INTRODUCTION](#Introduction)\n",
    "* [DATA EXPLORATION AND WRANGLING](#Dataexplorationandwrangling)\n",
    "* [DATA ASSESSEMENT](#DataAssessment)\n",
    "* [DATA CLEANING](#DataCleaning)\n"
   ]
  },
  {
   "cell_type": "markdown",
   "metadata": {},
   "source": [
    "### INTRODUCTION\n",
    "\n",
    "For this project I choose to analyse and plot visualisations for the Ford go bike dataset for 2018. This dataset was provided by Udacity and downloaded manually from the resource centre as a `.CSV` file..\n",
    "This data set includes information about individual rides made in a bike-sharing system covering in the greater San Francisco Bay area.\n",
    "\n",
    "It contains 183412 trips and 16 features. \n",
    "\n",
    "duration_sec| start_time|end_time|start_station_id| start_station_name|start_station_latitude|start_station_longitude |end_station_id|end_station_name|end_station_latitude|end_station_longitude|bike_id|user_type|member_birth_year|member_gender\n",
    "\n",
    "The first step was to carry out Data Wrangling processes on the data to ensure it meets the requirements for Quality and Tidy Data. In the data wrangling phase a lot exploration was carried to get deeper insights on what the data looks like. \n",
    "\n",
    "In the second phase \"Explanatory Phase\" Various plots from \"Univaraite to Multivariate\" were created to give and share the insights observed in the first phase.\n",
    "\n",
    "A slide will be prepared in conclusion to share the outcome. Target is to share finding with audience or users and ensure they get a deep understanding of the data as much as possible."
   ]
  },
  {
   "cell_type": "markdown",
   "metadata": {},
   "source": [
    "#### DATA EXPLORATION AND WRANGLING"
   ]
  },
  {
   "cell_type": "code",
   "execution_count": 1,
   "metadata": {},
   "outputs": [],
   "source": [
    "#import necessary modules\n",
    "\n",
    "import pandas as pd\n",
    "import numpy as np\n",
    "import matplotlib.pyplot as plt\n",
    "import seaborn as sns\n",
    "import datetime\n",
    "from datetime import timedelta\n",
    "from pyproj import Geod\n",
    "\n",
    "#allows plots to be rendered directly inside the notebook\n",
    "%matplotlib inline"
   ]
  },
  {
   "cell_type": "code",
   "execution_count": 2,
   "metadata": {},
   "outputs": [
    {
     "data": {
      "text/html": [
       "<style type=\"text/css\">\n",
       "table.dataframe td, table.dataframe th {\n",
       "    border: 1px  black solid !important;\n",
       "  color: black !important;\n",
       "}\n",
       "</style> \n"
      ],
      "text/plain": [
       "<IPython.core.display.HTML object>"
      ]
     },
     "metadata": {},
     "output_type": "display_data"
    }
   ],
   "source": [
    "%%HTML\n",
    "<style type=\"text/css\">\n",
    "table.dataframe td, table.dataframe th {\n",
    "    border: 1px  black solid !important;\n",
    "  color: black !important;\n",
    "}\n",
    "</style> "
   ]
  },
  {
   "cell_type": "markdown",
   "metadata": {},
   "source": [
    "#### DATA ASSESSEMENT"
   ]
  },
  {
   "cell_type": "code",
   "execution_count": 3,
   "metadata": {},
   "outputs": [
    {
     "data": {
      "text/html": [
       "<div>\n",
       "<style scoped>\n",
       "    .dataframe tbody tr th:only-of-type {\n",
       "        vertical-align: middle;\n",
       "    }\n",
       "\n",
       "    .dataframe tbody tr th {\n",
       "        vertical-align: top;\n",
       "    }\n",
       "\n",
       "    .dataframe thead th {\n",
       "        text-align: right;\n",
       "    }\n",
       "</style>\n",
       "<table border=\"1\" class=\"dataframe\">\n",
       "  <thead>\n",
       "    <tr style=\"text-align: right;\">\n",
       "      <th></th>\n",
       "      <th>duration_sec</th>\n",
       "      <th>start_time</th>\n",
       "      <th>end_time</th>\n",
       "      <th>start_station_id</th>\n",
       "      <th>start_station_name</th>\n",
       "      <th>start_station_latitude</th>\n",
       "      <th>start_station_longitude</th>\n",
       "      <th>end_station_id</th>\n",
       "      <th>end_station_name</th>\n",
       "      <th>end_station_latitude</th>\n",
       "      <th>end_station_longitude</th>\n",
       "      <th>bike_id</th>\n",
       "      <th>user_type</th>\n",
       "      <th>member_birth_year</th>\n",
       "      <th>member_gender</th>\n",
       "      <th>bike_share_for_all_trip</th>\n",
       "    </tr>\n",
       "  </thead>\n",
       "  <tbody>\n",
       "    <tr>\n",
       "      <th>0</th>\n",
       "      <td>52185</td>\n",
       "      <td>2019-02-28 17:32:10.1450</td>\n",
       "      <td>2019-03-01 08:01:55.9750</td>\n",
       "      <td>21.0</td>\n",
       "      <td>Montgomery St BART Station (Market St at 2nd St)</td>\n",
       "      <td>37.789625</td>\n",
       "      <td>-122.400811</td>\n",
       "      <td>13.0</td>\n",
       "      <td>Commercial St at Montgomery St</td>\n",
       "      <td>37.794231</td>\n",
       "      <td>-122.402923</td>\n",
       "      <td>4902</td>\n",
       "      <td>Customer</td>\n",
       "      <td>1984.0</td>\n",
       "      <td>Male</td>\n",
       "      <td>No</td>\n",
       "    </tr>\n",
       "    <tr>\n",
       "      <th>1</th>\n",
       "      <td>42521</td>\n",
       "      <td>2019-02-28 18:53:21.7890</td>\n",
       "      <td>2019-03-01 06:42:03.0560</td>\n",
       "      <td>23.0</td>\n",
       "      <td>The Embarcadero at Steuart St</td>\n",
       "      <td>37.791464</td>\n",
       "      <td>-122.391034</td>\n",
       "      <td>81.0</td>\n",
       "      <td>Berry St at 4th St</td>\n",
       "      <td>37.775880</td>\n",
       "      <td>-122.393170</td>\n",
       "      <td>2535</td>\n",
       "      <td>Customer</td>\n",
       "      <td>NaN</td>\n",
       "      <td>NaN</td>\n",
       "      <td>No</td>\n",
       "    </tr>\n",
       "    <tr>\n",
       "      <th>2</th>\n",
       "      <td>61854</td>\n",
       "      <td>2019-02-28 12:13:13.2180</td>\n",
       "      <td>2019-03-01 05:24:08.1460</td>\n",
       "      <td>86.0</td>\n",
       "      <td>Market St at Dolores St</td>\n",
       "      <td>37.769305</td>\n",
       "      <td>-122.426826</td>\n",
       "      <td>3.0</td>\n",
       "      <td>Powell St BART Station (Market St at 4th St)</td>\n",
       "      <td>37.786375</td>\n",
       "      <td>-122.404904</td>\n",
       "      <td>5905</td>\n",
       "      <td>Customer</td>\n",
       "      <td>1972.0</td>\n",
       "      <td>Male</td>\n",
       "      <td>No</td>\n",
       "    </tr>\n",
       "    <tr>\n",
       "      <th>3</th>\n",
       "      <td>36490</td>\n",
       "      <td>2019-02-28 17:54:26.0100</td>\n",
       "      <td>2019-03-01 04:02:36.8420</td>\n",
       "      <td>375.0</td>\n",
       "      <td>Grove St at Masonic Ave</td>\n",
       "      <td>37.774836</td>\n",
       "      <td>-122.446546</td>\n",
       "      <td>70.0</td>\n",
       "      <td>Central Ave at Fell St</td>\n",
       "      <td>37.773311</td>\n",
       "      <td>-122.444293</td>\n",
       "      <td>6638</td>\n",
       "      <td>Subscriber</td>\n",
       "      <td>1989.0</td>\n",
       "      <td>Other</td>\n",
       "      <td>No</td>\n",
       "    </tr>\n",
       "    <tr>\n",
       "      <th>4</th>\n",
       "      <td>1585</td>\n",
       "      <td>2019-02-28 23:54:18.5490</td>\n",
       "      <td>2019-03-01 00:20:44.0740</td>\n",
       "      <td>7.0</td>\n",
       "      <td>Frank H Ogawa Plaza</td>\n",
       "      <td>37.804562</td>\n",
       "      <td>-122.271738</td>\n",
       "      <td>222.0</td>\n",
       "      <td>10th Ave at E 15th St</td>\n",
       "      <td>37.792714</td>\n",
       "      <td>-122.248780</td>\n",
       "      <td>4898</td>\n",
       "      <td>Subscriber</td>\n",
       "      <td>1974.0</td>\n",
       "      <td>Male</td>\n",
       "      <td>Yes</td>\n",
       "    </tr>\n",
       "  </tbody>\n",
       "</table>\n",
       "</div>"
      ],
      "text/plain": [
       "   duration_sec                start_time                  end_time  \\\n",
       "0         52185  2019-02-28 17:32:10.1450  2019-03-01 08:01:55.9750   \n",
       "1         42521  2019-02-28 18:53:21.7890  2019-03-01 06:42:03.0560   \n",
       "2         61854  2019-02-28 12:13:13.2180  2019-03-01 05:24:08.1460   \n",
       "3         36490  2019-02-28 17:54:26.0100  2019-03-01 04:02:36.8420   \n",
       "4          1585  2019-02-28 23:54:18.5490  2019-03-01 00:20:44.0740   \n",
       "\n",
       "   start_station_id                                start_station_name  \\\n",
       "0              21.0  Montgomery St BART Station (Market St at 2nd St)   \n",
       "1              23.0                     The Embarcadero at Steuart St   \n",
       "2              86.0                           Market St at Dolores St   \n",
       "3             375.0                           Grove St at Masonic Ave   \n",
       "4               7.0                               Frank H Ogawa Plaza   \n",
       "\n",
       "   start_station_latitude  start_station_longitude  end_station_id  \\\n",
       "0               37.789625              -122.400811            13.0   \n",
       "1               37.791464              -122.391034            81.0   \n",
       "2               37.769305              -122.426826             3.0   \n",
       "3               37.774836              -122.446546            70.0   \n",
       "4               37.804562              -122.271738           222.0   \n",
       "\n",
       "                               end_station_name  end_station_latitude  \\\n",
       "0                Commercial St at Montgomery St             37.794231   \n",
       "1                            Berry St at 4th St             37.775880   \n",
       "2  Powell St BART Station (Market St at 4th St)             37.786375   \n",
       "3                        Central Ave at Fell St             37.773311   \n",
       "4                         10th Ave at E 15th St             37.792714   \n",
       "\n",
       "   end_station_longitude  bike_id   user_type  member_birth_year  \\\n",
       "0            -122.402923     4902    Customer             1984.0   \n",
       "1            -122.393170     2535    Customer                NaN   \n",
       "2            -122.404904     5905    Customer             1972.0   \n",
       "3            -122.444293     6638  Subscriber             1989.0   \n",
       "4            -122.248780     4898  Subscriber             1974.0   \n",
       "\n",
       "  member_gender bike_share_for_all_trip  \n",
       "0          Male                      No  \n",
       "1           NaN                      No  \n",
       "2          Male                      No  \n",
       "3         Other                      No  \n",
       "4          Male                     Yes  "
      ]
     },
     "execution_count": 3,
     "metadata": {},
     "output_type": "execute_result"
    }
   ],
   "source": [
    "#load data into a pandas dataframe\n",
    "bike_data = pd.read_csv('fordgobike.csv')\n",
    "bike_data.head()"
   ]
  },
  {
   "cell_type": "code",
   "execution_count": 4,
   "metadata": {},
   "outputs": [
    {
     "data": {
      "text/plain": [
       "(183412, 16)"
      ]
     },
     "execution_count": 4,
     "metadata": {},
     "output_type": "execute_result"
    }
   ],
   "source": [
    "bike_data.shape"
   ]
  },
  {
   "cell_type": "code",
   "execution_count": 5,
   "metadata": {},
   "outputs": [
    {
     "data": {
      "text/plain": [
       "duration_sec                  0\n",
       "start_time                    0\n",
       "end_time                      0\n",
       "start_station_id            197\n",
       "start_station_name          197\n",
       "start_station_latitude        0\n",
       "start_station_longitude       0\n",
       "end_station_id              197\n",
       "end_station_name            197\n",
       "end_station_latitude          0\n",
       "end_station_longitude         0\n",
       "bike_id                       0\n",
       "user_type                     0\n",
       "member_birth_year          8265\n",
       "member_gender              8265\n",
       "bike_share_for_all_trip       0\n",
       "dtype: int64"
      ]
     },
     "execution_count": 5,
     "metadata": {},
     "output_type": "execute_result"
    }
   ],
   "source": [
    "bike_data.isnull().sum()"
   ]
  },
  {
   "cell_type": "code",
   "execution_count": 6,
   "metadata": {},
   "outputs": [
    {
     "name": "stdout",
     "output_type": "stream",
     "text": [
      "<class 'pandas.core.frame.DataFrame'>\n",
      "RangeIndex: 183412 entries, 0 to 183411\n",
      "Data columns (total 16 columns):\n",
      " #   Column                   Non-Null Count   Dtype  \n",
      "---  ------                   --------------   -----  \n",
      " 0   duration_sec             183412 non-null  int64  \n",
      " 1   start_time               183412 non-null  object \n",
      " 2   end_time                 183412 non-null  object \n",
      " 3   start_station_id         183215 non-null  float64\n",
      " 4   start_station_name       183215 non-null  object \n",
      " 5   start_station_latitude   183412 non-null  float64\n",
      " 6   start_station_longitude  183412 non-null  float64\n",
      " 7   end_station_id           183215 non-null  float64\n",
      " 8   end_station_name         183215 non-null  object \n",
      " 9   end_station_latitude     183412 non-null  float64\n",
      " 10  end_station_longitude    183412 non-null  float64\n",
      " 11  bike_id                  183412 non-null  int64  \n",
      " 12  user_type                183412 non-null  object \n",
      " 13  member_birth_year        175147 non-null  float64\n",
      " 14  member_gender            175147 non-null  object \n",
      " 15  bike_share_for_all_trip  183412 non-null  object \n",
      "dtypes: float64(7), int64(2), object(7)\n",
      "memory usage: 22.4+ MB\n"
     ]
    }
   ],
   "source": [
    "bike_data.info()"
   ]
  },
  {
   "cell_type": "code",
   "execution_count": 7,
   "metadata": {},
   "outputs": [
    {
     "data": {
      "text/html": [
       "<div>\n",
       "<style scoped>\n",
       "    .dataframe tbody tr th:only-of-type {\n",
       "        vertical-align: middle;\n",
       "    }\n",
       "\n",
       "    .dataframe tbody tr th {\n",
       "        vertical-align: top;\n",
       "    }\n",
       "\n",
       "    .dataframe thead th {\n",
       "        text-align: right;\n",
       "    }\n",
       "</style>\n",
       "<table border=\"1\" class=\"dataframe\">\n",
       "  <thead>\n",
       "    <tr style=\"text-align: right;\">\n",
       "      <th></th>\n",
       "      <th>duration_sec</th>\n",
       "      <th>start_station_id</th>\n",
       "      <th>start_station_latitude</th>\n",
       "      <th>start_station_longitude</th>\n",
       "      <th>end_station_id</th>\n",
       "      <th>end_station_latitude</th>\n",
       "      <th>end_station_longitude</th>\n",
       "      <th>bike_id</th>\n",
       "      <th>member_birth_year</th>\n",
       "    </tr>\n",
       "  </thead>\n",
       "  <tbody>\n",
       "    <tr>\n",
       "      <th>count</th>\n",
       "      <td>183412.000000</td>\n",
       "      <td>183215.000000</td>\n",
       "      <td>183412.000000</td>\n",
       "      <td>183412.000000</td>\n",
       "      <td>183215.000000</td>\n",
       "      <td>183412.000000</td>\n",
       "      <td>183412.000000</td>\n",
       "      <td>183412.000000</td>\n",
       "      <td>175147.000000</td>\n",
       "    </tr>\n",
       "    <tr>\n",
       "      <th>mean</th>\n",
       "      <td>726.078435</td>\n",
       "      <td>138.590427</td>\n",
       "      <td>37.771223</td>\n",
       "      <td>-122.352664</td>\n",
       "      <td>136.249123</td>\n",
       "      <td>37.771427</td>\n",
       "      <td>-122.352250</td>\n",
       "      <td>4472.906375</td>\n",
       "      <td>1984.806437</td>\n",
       "    </tr>\n",
       "    <tr>\n",
       "      <th>std</th>\n",
       "      <td>1794.389780</td>\n",
       "      <td>111.778864</td>\n",
       "      <td>0.099581</td>\n",
       "      <td>0.117097</td>\n",
       "      <td>111.515131</td>\n",
       "      <td>0.099490</td>\n",
       "      <td>0.116673</td>\n",
       "      <td>1664.383394</td>\n",
       "      <td>10.116689</td>\n",
       "    </tr>\n",
       "    <tr>\n",
       "      <th>min</th>\n",
       "      <td>61.000000</td>\n",
       "      <td>3.000000</td>\n",
       "      <td>37.317298</td>\n",
       "      <td>-122.453704</td>\n",
       "      <td>3.000000</td>\n",
       "      <td>37.317298</td>\n",
       "      <td>-122.453704</td>\n",
       "      <td>11.000000</td>\n",
       "      <td>1878.000000</td>\n",
       "    </tr>\n",
       "    <tr>\n",
       "      <th>25%</th>\n",
       "      <td>325.000000</td>\n",
       "      <td>47.000000</td>\n",
       "      <td>37.770083</td>\n",
       "      <td>-122.412408</td>\n",
       "      <td>44.000000</td>\n",
       "      <td>37.770407</td>\n",
       "      <td>-122.411726</td>\n",
       "      <td>3777.000000</td>\n",
       "      <td>1980.000000</td>\n",
       "    </tr>\n",
       "    <tr>\n",
       "      <th>50%</th>\n",
       "      <td>514.000000</td>\n",
       "      <td>104.000000</td>\n",
       "      <td>37.780760</td>\n",
       "      <td>-122.398285</td>\n",
       "      <td>100.000000</td>\n",
       "      <td>37.781010</td>\n",
       "      <td>-122.398279</td>\n",
       "      <td>4958.000000</td>\n",
       "      <td>1987.000000</td>\n",
       "    </tr>\n",
       "    <tr>\n",
       "      <th>75%</th>\n",
       "      <td>796.000000</td>\n",
       "      <td>239.000000</td>\n",
       "      <td>37.797280</td>\n",
       "      <td>-122.286533</td>\n",
       "      <td>235.000000</td>\n",
       "      <td>37.797320</td>\n",
       "      <td>-122.288045</td>\n",
       "      <td>5502.000000</td>\n",
       "      <td>1992.000000</td>\n",
       "    </tr>\n",
       "    <tr>\n",
       "      <th>max</th>\n",
       "      <td>85444.000000</td>\n",
       "      <td>398.000000</td>\n",
       "      <td>37.880222</td>\n",
       "      <td>-121.874119</td>\n",
       "      <td>398.000000</td>\n",
       "      <td>37.880222</td>\n",
       "      <td>-121.874119</td>\n",
       "      <td>6645.000000</td>\n",
       "      <td>2001.000000</td>\n",
       "    </tr>\n",
       "  </tbody>\n",
       "</table>\n",
       "</div>"
      ],
      "text/plain": [
       "        duration_sec  start_station_id  start_station_latitude  \\\n",
       "count  183412.000000     183215.000000           183412.000000   \n",
       "mean      726.078435        138.590427               37.771223   \n",
       "std      1794.389780        111.778864                0.099581   \n",
       "min        61.000000          3.000000               37.317298   \n",
       "25%       325.000000         47.000000               37.770083   \n",
       "50%       514.000000        104.000000               37.780760   \n",
       "75%       796.000000        239.000000               37.797280   \n",
       "max     85444.000000        398.000000               37.880222   \n",
       "\n",
       "       start_station_longitude  end_station_id  end_station_latitude  \\\n",
       "count            183412.000000   183215.000000         183412.000000   \n",
       "mean               -122.352664      136.249123             37.771427   \n",
       "std                   0.117097      111.515131              0.099490   \n",
       "min                -122.453704        3.000000             37.317298   \n",
       "25%                -122.412408       44.000000             37.770407   \n",
       "50%                -122.398285      100.000000             37.781010   \n",
       "75%                -122.286533      235.000000             37.797320   \n",
       "max                -121.874119      398.000000             37.880222   \n",
       "\n",
       "       end_station_longitude        bike_id  member_birth_year  \n",
       "count          183412.000000  183412.000000      175147.000000  \n",
       "mean             -122.352250    4472.906375        1984.806437  \n",
       "std                 0.116673    1664.383394          10.116689  \n",
       "min              -122.453704      11.000000        1878.000000  \n",
       "25%              -122.411726    3777.000000        1980.000000  \n",
       "50%              -122.398279    4958.000000        1987.000000  \n",
       "75%              -122.288045    5502.000000        1992.000000  \n",
       "max              -121.874119    6645.000000        2001.000000  "
      ]
     },
     "execution_count": 7,
     "metadata": {},
     "output_type": "execute_result"
    }
   ],
   "source": [
    "bike_data.describe()"
   ]
  },
  {
   "cell_type": "code",
   "execution_count": 7,
   "metadata": {},
   "outputs": [
    {
     "data": {
      "text/plain": [
       "False"
      ]
     },
     "execution_count": 7,
     "metadata": {},
     "output_type": "execute_result"
    }
   ],
   "source": [
    "bike_data.duplicated().sum().any()"
   ]
  },
  {
   "cell_type": "markdown",
   "metadata": {},
   "source": [
    "## Quality Issues\n",
    "* station_id should be integer not float\n",
    "* end station_id should be int not float\n",
    "* member birth year should be int not float\n",
    "* convert start time and end time to datetime\n",
    "* convert duration to hours and minutes\n",
    "* member gender contains Nan and others\n",
    "* start_station_id contains NaN values"
   ]
  },
  {
   "cell_type": "markdown",
   "metadata": {},
   "source": [
    "#### DATA CLEANING\n",
    "Data assessment carried out programmatically above highlighted some issues listed. Data cleaning will be done in this section to ensure the data meets the tidiness and quality standard for visualisation."
   ]
  },
  {
   "cell_type": "code",
   "execution_count": 8,
   "metadata": {},
   "outputs": [],
   "source": [
    "#make a copy of data before cleaning\n",
    "bike_data_clean = bike_data"
   ]
  },
  {
   "cell_type": "markdown",
   "metadata": {},
   "source": [
    "The trip duration was recorded in seconds. It will be best to convert them to minutes or hours to help with visualisation."
   ]
  },
  {
   "cell_type": "code",
   "execution_count": 9,
   "metadata": {},
   "outputs": [],
   "source": [
    "#convert seconds to hour minutes and seconds\n",
    "#bike_data_clean['duration_hours'] = bike_data_clean['duration_hours'].astype('float64')\n",
    "bike_data_clean['duration_hms'] = pd.to_datetime(bike_data_clean[\"duration_sec\"], unit='s').dt.strftime(\"%H:%M:%S\")"
   ]
  },
  {
   "cell_type": "code",
   "execution_count": 10,
   "metadata": {},
   "outputs": [],
   "source": [
    "#create a column for minutes\n",
    "bike_data_clean['duration_minutes'] = bike_data_clean[\"duration_sec\"]/60"
   ]
  },
  {
   "cell_type": "code",
   "execution_count": 11,
   "metadata": {},
   "outputs": [
    {
     "data": {
      "text/html": [
       "<div>\n",
       "<style scoped>\n",
       "    .dataframe tbody tr th:only-of-type {\n",
       "        vertical-align: middle;\n",
       "    }\n",
       "\n",
       "    .dataframe tbody tr th {\n",
       "        vertical-align: top;\n",
       "    }\n",
       "\n",
       "    .dataframe thead th {\n",
       "        text-align: right;\n",
       "    }\n",
       "</style>\n",
       "<table border=\"1\" class=\"dataframe\">\n",
       "  <thead>\n",
       "    <tr style=\"text-align: right;\">\n",
       "      <th></th>\n",
       "      <th>duration_sec</th>\n",
       "      <th>start_time</th>\n",
       "      <th>end_time</th>\n",
       "      <th>start_station_id</th>\n",
       "      <th>start_station_name</th>\n",
       "      <th>start_station_latitude</th>\n",
       "      <th>start_station_longitude</th>\n",
       "      <th>end_station_id</th>\n",
       "      <th>end_station_name</th>\n",
       "      <th>end_station_latitude</th>\n",
       "      <th>end_station_longitude</th>\n",
       "      <th>bike_id</th>\n",
       "      <th>user_type</th>\n",
       "      <th>member_birth_year</th>\n",
       "      <th>member_gender</th>\n",
       "      <th>bike_share_for_all_trip</th>\n",
       "      <th>duration_hms</th>\n",
       "      <th>duration_minutes</th>\n",
       "    </tr>\n",
       "  </thead>\n",
       "  <tbody>\n",
       "    <tr>\n",
       "      <th>0</th>\n",
       "      <td>52185</td>\n",
       "      <td>2019-02-28 17:32:10.1450</td>\n",
       "      <td>2019-03-01 08:01:55.9750</td>\n",
       "      <td>21.0</td>\n",
       "      <td>Montgomery St BART Station (Market St at 2nd St)</td>\n",
       "      <td>37.789625</td>\n",
       "      <td>-122.400811</td>\n",
       "      <td>13.0</td>\n",
       "      <td>Commercial St at Montgomery St</td>\n",
       "      <td>37.794231</td>\n",
       "      <td>-122.402923</td>\n",
       "      <td>4902</td>\n",
       "      <td>Customer</td>\n",
       "      <td>1984.0</td>\n",
       "      <td>Male</td>\n",
       "      <td>No</td>\n",
       "      <td>14:29:45</td>\n",
       "      <td>869.750000</td>\n",
       "    </tr>\n",
       "    <tr>\n",
       "      <th>1</th>\n",
       "      <td>42521</td>\n",
       "      <td>2019-02-28 18:53:21.7890</td>\n",
       "      <td>2019-03-01 06:42:03.0560</td>\n",
       "      <td>23.0</td>\n",
       "      <td>The Embarcadero at Steuart St</td>\n",
       "      <td>37.791464</td>\n",
       "      <td>-122.391034</td>\n",
       "      <td>81.0</td>\n",
       "      <td>Berry St at 4th St</td>\n",
       "      <td>37.775880</td>\n",
       "      <td>-122.393170</td>\n",
       "      <td>2535</td>\n",
       "      <td>Customer</td>\n",
       "      <td>NaN</td>\n",
       "      <td>NaN</td>\n",
       "      <td>No</td>\n",
       "      <td>11:48:41</td>\n",
       "      <td>708.683333</td>\n",
       "    </tr>\n",
       "    <tr>\n",
       "      <th>2</th>\n",
       "      <td>61854</td>\n",
       "      <td>2019-02-28 12:13:13.2180</td>\n",
       "      <td>2019-03-01 05:24:08.1460</td>\n",
       "      <td>86.0</td>\n",
       "      <td>Market St at Dolores St</td>\n",
       "      <td>37.769305</td>\n",
       "      <td>-122.426826</td>\n",
       "      <td>3.0</td>\n",
       "      <td>Powell St BART Station (Market St at 4th St)</td>\n",
       "      <td>37.786375</td>\n",
       "      <td>-122.404904</td>\n",
       "      <td>5905</td>\n",
       "      <td>Customer</td>\n",
       "      <td>1972.0</td>\n",
       "      <td>Male</td>\n",
       "      <td>No</td>\n",
       "      <td>17:10:54</td>\n",
       "      <td>1030.900000</td>\n",
       "    </tr>\n",
       "    <tr>\n",
       "      <th>3</th>\n",
       "      <td>36490</td>\n",
       "      <td>2019-02-28 17:54:26.0100</td>\n",
       "      <td>2019-03-01 04:02:36.8420</td>\n",
       "      <td>375.0</td>\n",
       "      <td>Grove St at Masonic Ave</td>\n",
       "      <td>37.774836</td>\n",
       "      <td>-122.446546</td>\n",
       "      <td>70.0</td>\n",
       "      <td>Central Ave at Fell St</td>\n",
       "      <td>37.773311</td>\n",
       "      <td>-122.444293</td>\n",
       "      <td>6638</td>\n",
       "      <td>Subscriber</td>\n",
       "      <td>1989.0</td>\n",
       "      <td>Other</td>\n",
       "      <td>No</td>\n",
       "      <td>10:08:10</td>\n",
       "      <td>608.166667</td>\n",
       "    </tr>\n",
       "    <tr>\n",
       "      <th>4</th>\n",
       "      <td>1585</td>\n",
       "      <td>2019-02-28 23:54:18.5490</td>\n",
       "      <td>2019-03-01 00:20:44.0740</td>\n",
       "      <td>7.0</td>\n",
       "      <td>Frank H Ogawa Plaza</td>\n",
       "      <td>37.804562</td>\n",
       "      <td>-122.271738</td>\n",
       "      <td>222.0</td>\n",
       "      <td>10th Ave at E 15th St</td>\n",
       "      <td>37.792714</td>\n",
       "      <td>-122.248780</td>\n",
       "      <td>4898</td>\n",
       "      <td>Subscriber</td>\n",
       "      <td>1974.0</td>\n",
       "      <td>Male</td>\n",
       "      <td>Yes</td>\n",
       "      <td>00:26:25</td>\n",
       "      <td>26.416667</td>\n",
       "    </tr>\n",
       "  </tbody>\n",
       "</table>\n",
       "</div>"
      ],
      "text/plain": [
       "   duration_sec                start_time                  end_time  \\\n",
       "0         52185  2019-02-28 17:32:10.1450  2019-03-01 08:01:55.9750   \n",
       "1         42521  2019-02-28 18:53:21.7890  2019-03-01 06:42:03.0560   \n",
       "2         61854  2019-02-28 12:13:13.2180  2019-03-01 05:24:08.1460   \n",
       "3         36490  2019-02-28 17:54:26.0100  2019-03-01 04:02:36.8420   \n",
       "4          1585  2019-02-28 23:54:18.5490  2019-03-01 00:20:44.0740   \n",
       "\n",
       "   start_station_id                                start_station_name  \\\n",
       "0              21.0  Montgomery St BART Station (Market St at 2nd St)   \n",
       "1              23.0                     The Embarcadero at Steuart St   \n",
       "2              86.0                           Market St at Dolores St   \n",
       "3             375.0                           Grove St at Masonic Ave   \n",
       "4               7.0                               Frank H Ogawa Plaza   \n",
       "\n",
       "   start_station_latitude  start_station_longitude  end_station_id  \\\n",
       "0               37.789625              -122.400811            13.0   \n",
       "1               37.791464              -122.391034            81.0   \n",
       "2               37.769305              -122.426826             3.0   \n",
       "3               37.774836              -122.446546            70.0   \n",
       "4               37.804562              -122.271738           222.0   \n",
       "\n",
       "                               end_station_name  end_station_latitude  \\\n",
       "0                Commercial St at Montgomery St             37.794231   \n",
       "1                            Berry St at 4th St             37.775880   \n",
       "2  Powell St BART Station (Market St at 4th St)             37.786375   \n",
       "3                        Central Ave at Fell St             37.773311   \n",
       "4                         10th Ave at E 15th St             37.792714   \n",
       "\n",
       "   end_station_longitude  bike_id   user_type  member_birth_year  \\\n",
       "0            -122.402923     4902    Customer             1984.0   \n",
       "1            -122.393170     2535    Customer                NaN   \n",
       "2            -122.404904     5905    Customer             1972.0   \n",
       "3            -122.444293     6638  Subscriber             1989.0   \n",
       "4            -122.248780     4898  Subscriber             1974.0   \n",
       "\n",
       "  member_gender bike_share_for_all_trip duration_hms  duration_minutes  \n",
       "0          Male                      No     14:29:45        869.750000  \n",
       "1           NaN                      No     11:48:41        708.683333  \n",
       "2          Male                      No     17:10:54       1030.900000  \n",
       "3         Other                      No     10:08:10        608.166667  \n",
       "4          Male                     Yes     00:26:25         26.416667  "
      ]
     },
     "execution_count": 11,
     "metadata": {},
     "output_type": "execute_result"
    }
   ],
   "source": [
    "bike_data_clean.head()"
   ]
  },
  {
   "cell_type": "code",
   "execution_count": 12,
   "metadata": {},
   "outputs": [
    {
     "name": "stdout",
     "output_type": "stream",
     "text": [
      "<class 'pandas.core.frame.DataFrame'>\n",
      "RangeIndex: 183412 entries, 0 to 183411\n",
      "Data columns (total 18 columns):\n",
      " #   Column                   Non-Null Count   Dtype  \n",
      "---  ------                   --------------   -----  \n",
      " 0   duration_sec             183412 non-null  int64  \n",
      " 1   start_time               183412 non-null  object \n",
      " 2   end_time                 183412 non-null  object \n",
      " 3   start_station_id         183215 non-null  float64\n",
      " 4   start_station_name       183215 non-null  object \n",
      " 5   start_station_latitude   183412 non-null  float64\n",
      " 6   start_station_longitude  183412 non-null  float64\n",
      " 7   end_station_id           183215 non-null  float64\n",
      " 8   end_station_name         183215 non-null  object \n",
      " 9   end_station_latitude     183412 non-null  float64\n",
      " 10  end_station_longitude    183412 non-null  float64\n",
      " 11  bike_id                  183412 non-null  int64  \n",
      " 12  user_type                183412 non-null  object \n",
      " 13  member_birth_year        175147 non-null  float64\n",
      " 14  member_gender            175147 non-null  object \n",
      " 15  bike_share_for_all_trip  183412 non-null  object \n",
      " 16  duration_hms             183412 non-null  object \n",
      " 17  duration_minutes         183412 non-null  float64\n",
      "dtypes: float64(8), int64(2), object(8)\n",
      "memory usage: 25.2+ MB\n"
     ]
    }
   ],
   "source": [
    "bike_data_clean.info()"
   ]
  },
  {
   "cell_type": "markdown",
   "metadata": {},
   "source": [
    "**DEFINE**\n",
    "\n",
    "Convert start_time and end_time to datetime\n",
    "\n",
    "**CODE**"
   ]
  },
  {
   "cell_type": "code",
   "execution_count": 13,
   "metadata": {},
   "outputs": [],
   "source": [
    "#convert start and end time to datetime instead of object\n",
    "bike_data_clean['start_time'] = pd.to_datetime(bike_data_clean['start_time'])\n",
    "bike_data_clean['end_time'] = pd.to_datetime(bike_data_clean['end_time'])"
   ]
  },
  {
   "cell_type": "markdown",
   "metadata": {},
   "source": [
    "**DEFINE**\n",
    "\n",
    "Drop rows with missing start_station_id and end_station_id, in order to change data type to int.\n",
    "\n",
    "**CODE**"
   ]
  },
  {
   "cell_type": "code",
   "execution_count": 14,
   "metadata": {},
   "outputs": [],
   "source": [
    "#find columns with NaN station id\n",
    "#bike_data_clean.query('start_station_id == \"NaN\"')\n",
    "\n",
    "#remove the rows\n",
    "bike_data_clean = bike_data_clean[bike_data_clean['start_station_id'].notna()]"
   ]
  },
  {
   "cell_type": "code",
   "execution_count": 15,
   "metadata": {},
   "outputs": [],
   "source": [
    "#remove the rows with missing end_station_id\n",
    "bike_data_clean = bike_data_clean[bike_data_clean['end_station_id'].notna()]"
   ]
  },
  {
   "cell_type": "markdown",
   "metadata": {},
   "source": [
    "**TEST**"
   ]
  },
  {
   "cell_type": "code",
   "execution_count": 16,
   "metadata": {},
   "outputs": [
    {
     "data": {
      "text/html": [
       "<div>\n",
       "<style scoped>\n",
       "    .dataframe tbody tr th:only-of-type {\n",
       "        vertical-align: middle;\n",
       "    }\n",
       "\n",
       "    .dataframe tbody tr th {\n",
       "        vertical-align: top;\n",
       "    }\n",
       "\n",
       "    .dataframe thead th {\n",
       "        text-align: right;\n",
       "    }\n",
       "</style>\n",
       "<table border=\"1\" class=\"dataframe\">\n",
       "  <thead>\n",
       "    <tr style=\"text-align: right;\">\n",
       "      <th></th>\n",
       "      <th>duration_sec</th>\n",
       "      <th>start_time</th>\n",
       "      <th>end_time</th>\n",
       "      <th>start_station_id</th>\n",
       "      <th>start_station_name</th>\n",
       "      <th>start_station_latitude</th>\n",
       "      <th>start_station_longitude</th>\n",
       "      <th>end_station_id</th>\n",
       "      <th>end_station_name</th>\n",
       "      <th>end_station_latitude</th>\n",
       "      <th>end_station_longitude</th>\n",
       "      <th>bike_id</th>\n",
       "      <th>user_type</th>\n",
       "      <th>member_birth_year</th>\n",
       "      <th>member_gender</th>\n",
       "      <th>bike_share_for_all_trip</th>\n",
       "      <th>duration_hms</th>\n",
       "      <th>duration_minutes</th>\n",
       "    </tr>\n",
       "  </thead>\n",
       "  <tbody>\n",
       "  </tbody>\n",
       "</table>\n",
       "</div>"
      ],
      "text/plain": [
       "Empty DataFrame\n",
       "Columns: [duration_sec, start_time, end_time, start_station_id, start_station_name, start_station_latitude, start_station_longitude, end_station_id, end_station_name, end_station_latitude, end_station_longitude, bike_id, user_type, member_birth_year, member_gender, bike_share_for_all_trip, duration_hms, duration_minutes]\n",
       "Index: []"
      ]
     },
     "execution_count": 16,
     "metadata": {},
     "output_type": "execute_result"
    }
   ],
   "source": [
    "bike_data_clean.query('start_station_id == \"NaN\"')"
   ]
  },
  {
   "cell_type": "code",
   "execution_count": 17,
   "metadata": {},
   "outputs": [
    {
     "data": {
      "text/html": [
       "<div>\n",
       "<style scoped>\n",
       "    .dataframe tbody tr th:only-of-type {\n",
       "        vertical-align: middle;\n",
       "    }\n",
       "\n",
       "    .dataframe tbody tr th {\n",
       "        vertical-align: top;\n",
       "    }\n",
       "\n",
       "    .dataframe thead th {\n",
       "        text-align: right;\n",
       "    }\n",
       "</style>\n",
       "<table border=\"1\" class=\"dataframe\">\n",
       "  <thead>\n",
       "    <tr style=\"text-align: right;\">\n",
       "      <th></th>\n",
       "      <th>duration_sec</th>\n",
       "      <th>start_time</th>\n",
       "      <th>end_time</th>\n",
       "      <th>start_station_id</th>\n",
       "      <th>start_station_name</th>\n",
       "      <th>start_station_latitude</th>\n",
       "      <th>start_station_longitude</th>\n",
       "      <th>end_station_id</th>\n",
       "      <th>end_station_name</th>\n",
       "      <th>end_station_latitude</th>\n",
       "      <th>end_station_longitude</th>\n",
       "      <th>bike_id</th>\n",
       "      <th>user_type</th>\n",
       "      <th>member_birth_year</th>\n",
       "      <th>member_gender</th>\n",
       "      <th>bike_share_for_all_trip</th>\n",
       "      <th>duration_hms</th>\n",
       "      <th>duration_minutes</th>\n",
       "    </tr>\n",
       "  </thead>\n",
       "  <tbody>\n",
       "  </tbody>\n",
       "</table>\n",
       "</div>"
      ],
      "text/plain": [
       "Empty DataFrame\n",
       "Columns: [duration_sec, start_time, end_time, start_station_id, start_station_name, start_station_latitude, start_station_longitude, end_station_id, end_station_name, end_station_latitude, end_station_longitude, bike_id, user_type, member_birth_year, member_gender, bike_share_for_all_trip, duration_hms, duration_minutes]\n",
       "Index: []"
      ]
     },
     "execution_count": 17,
     "metadata": {},
     "output_type": "execute_result"
    }
   ],
   "source": [
    "bike_data_clean.query('end_station_id == \"NaN\"')"
   ]
  },
  {
   "cell_type": "markdown",
   "metadata": {},
   "source": [
    "**Convert start_station_id and end_station_id from floats to integer**"
   ]
  },
  {
   "cell_type": "code",
   "execution_count": 18,
   "metadata": {},
   "outputs": [],
   "source": [
    "#convert start station_id and end from floats to integer\n",
    "#display(bike_data_clean.dtypes)\n",
    "bike_data_clean = bike_data_clean.astype({\"start_station_id\":'int', \"end_station_id\":'int'})"
   ]
  },
  {
   "cell_type": "markdown",
   "metadata": {},
   "source": [
    "**TEST**"
   ]
  },
  {
   "cell_type": "code",
   "execution_count": 19,
   "metadata": {},
   "outputs": [
    {
     "data": {
      "text/plain": [
       "duration_sec                        int64\n",
       "start_time                 datetime64[ns]\n",
       "end_time                   datetime64[ns]\n",
       "start_station_id                    int32\n",
       "start_station_name                 object\n",
       "start_station_latitude            float64\n",
       "start_station_longitude           float64\n",
       "end_station_id                      int32\n",
       "end_station_name                   object\n",
       "end_station_latitude              float64\n",
       "end_station_longitude             float64\n",
       "bike_id                             int64\n",
       "user_type                          object\n",
       "member_birth_year                 float64\n",
       "member_gender                      object\n",
       "bike_share_for_all_trip            object\n",
       "duration_hms                       object\n",
       "duration_minutes                  float64\n",
       "dtype: object"
      ]
     },
     "metadata": {},
     "output_type": "display_data"
    }
   ],
   "source": [
    "display(bike_data_clean.dtypes)"
   ]
  },
  {
   "cell_type": "code",
   "execution_count": 20,
   "metadata": {},
   "outputs": [
    {
     "data": {
      "text/html": [
       "<div>\n",
       "<style scoped>\n",
       "    .dataframe tbody tr th:only-of-type {\n",
       "        vertical-align: middle;\n",
       "    }\n",
       "\n",
       "    .dataframe tbody tr th {\n",
       "        vertical-align: top;\n",
       "    }\n",
       "\n",
       "    .dataframe thead th {\n",
       "        text-align: right;\n",
       "    }\n",
       "</style>\n",
       "<table border=\"1\" class=\"dataframe\">\n",
       "  <thead>\n",
       "    <tr style=\"text-align: right;\">\n",
       "      <th></th>\n",
       "      <th>duration_sec</th>\n",
       "      <th>start_time</th>\n",
       "      <th>end_time</th>\n",
       "      <th>start_station_id</th>\n",
       "      <th>start_station_name</th>\n",
       "      <th>start_station_latitude</th>\n",
       "      <th>start_station_longitude</th>\n",
       "      <th>end_station_id</th>\n",
       "      <th>end_station_name</th>\n",
       "      <th>end_station_latitude</th>\n",
       "      <th>end_station_longitude</th>\n",
       "      <th>bike_id</th>\n",
       "      <th>user_type</th>\n",
       "      <th>member_birth_year</th>\n",
       "      <th>member_gender</th>\n",
       "      <th>bike_share_for_all_trip</th>\n",
       "      <th>duration_hms</th>\n",
       "      <th>duration_minutes</th>\n",
       "    </tr>\n",
       "  </thead>\n",
       "  <tbody>\n",
       "    <tr>\n",
       "      <th>0</th>\n",
       "      <td>52185</td>\n",
       "      <td>2019-02-28 17:32:10.145</td>\n",
       "      <td>2019-03-01 08:01:55.975</td>\n",
       "      <td>21</td>\n",
       "      <td>Montgomery St BART Station (Market St at 2nd St)</td>\n",
       "      <td>37.789625</td>\n",
       "      <td>-122.400811</td>\n",
       "      <td>13</td>\n",
       "      <td>Commercial St at Montgomery St</td>\n",
       "      <td>37.794231</td>\n",
       "      <td>-122.402923</td>\n",
       "      <td>4902</td>\n",
       "      <td>Customer</td>\n",
       "      <td>1984.0</td>\n",
       "      <td>Male</td>\n",
       "      <td>No</td>\n",
       "      <td>14:29:45</td>\n",
       "      <td>869.750000</td>\n",
       "    </tr>\n",
       "    <tr>\n",
       "      <th>1</th>\n",
       "      <td>42521</td>\n",
       "      <td>2019-02-28 18:53:21.789</td>\n",
       "      <td>2019-03-01 06:42:03.056</td>\n",
       "      <td>23</td>\n",
       "      <td>The Embarcadero at Steuart St</td>\n",
       "      <td>37.791464</td>\n",
       "      <td>-122.391034</td>\n",
       "      <td>81</td>\n",
       "      <td>Berry St at 4th St</td>\n",
       "      <td>37.775880</td>\n",
       "      <td>-122.393170</td>\n",
       "      <td>2535</td>\n",
       "      <td>Customer</td>\n",
       "      <td>NaN</td>\n",
       "      <td>NaN</td>\n",
       "      <td>No</td>\n",
       "      <td>11:48:41</td>\n",
       "      <td>708.683333</td>\n",
       "    </tr>\n",
       "  </tbody>\n",
       "</table>\n",
       "</div>"
      ],
      "text/plain": [
       "   duration_sec              start_time                end_time  \\\n",
       "0         52185 2019-02-28 17:32:10.145 2019-03-01 08:01:55.975   \n",
       "1         42521 2019-02-28 18:53:21.789 2019-03-01 06:42:03.056   \n",
       "\n",
       "   start_station_id                                start_station_name  \\\n",
       "0                21  Montgomery St BART Station (Market St at 2nd St)   \n",
       "1                23                     The Embarcadero at Steuart St   \n",
       "\n",
       "   start_station_latitude  start_station_longitude  end_station_id  \\\n",
       "0               37.789625              -122.400811              13   \n",
       "1               37.791464              -122.391034              81   \n",
       "\n",
       "                 end_station_name  end_station_latitude  \\\n",
       "0  Commercial St at Montgomery St             37.794231   \n",
       "1              Berry St at 4th St             37.775880   \n",
       "\n",
       "   end_station_longitude  bike_id user_type  member_birth_year member_gender  \\\n",
       "0            -122.402923     4902  Customer             1984.0          Male   \n",
       "1            -122.393170     2535  Customer                NaN           NaN   \n",
       "\n",
       "  bike_share_for_all_trip duration_hms  duration_minutes  \n",
       "0                      No     14:29:45        869.750000  \n",
       "1                      No     11:48:41        708.683333  "
      ]
     },
     "execution_count": 20,
     "metadata": {},
     "output_type": "execute_result"
    }
   ],
   "source": [
    "bike_data_clean.head(2)"
   ]
  },
  {
   "cell_type": "markdown",
   "metadata": {},
   "source": [
    "**DEFINE**\n",
    "\n",
    "Convert birth year to integer. First of all remove all Nan or missing values.\n",
    "\n",
    "**CODE**"
   ]
  },
  {
   "cell_type": "code",
   "execution_count": 21,
   "metadata": {},
   "outputs": [
    {
     "data": {
      "text/html": [
       "<div>\n",
       "<style scoped>\n",
       "    .dataframe tbody tr th:only-of-type {\n",
       "        vertical-align: middle;\n",
       "    }\n",
       "\n",
       "    .dataframe tbody tr th {\n",
       "        vertical-align: top;\n",
       "    }\n",
       "\n",
       "    .dataframe thead th {\n",
       "        text-align: right;\n",
       "    }\n",
       "</style>\n",
       "<table border=\"1\" class=\"dataframe\">\n",
       "  <thead>\n",
       "    <tr style=\"text-align: right;\">\n",
       "      <th></th>\n",
       "      <th>duration_sec</th>\n",
       "      <th>start_time</th>\n",
       "      <th>end_time</th>\n",
       "      <th>start_station_id</th>\n",
       "      <th>start_station_name</th>\n",
       "      <th>start_station_latitude</th>\n",
       "      <th>start_station_longitude</th>\n",
       "      <th>end_station_id</th>\n",
       "      <th>end_station_name</th>\n",
       "      <th>end_station_latitude</th>\n",
       "      <th>end_station_longitude</th>\n",
       "      <th>bike_id</th>\n",
       "      <th>user_type</th>\n",
       "      <th>member_birth_year</th>\n",
       "      <th>member_gender</th>\n",
       "      <th>bike_share_for_all_trip</th>\n",
       "      <th>duration_hms</th>\n",
       "      <th>duration_minutes</th>\n",
       "    </tr>\n",
       "  </thead>\n",
       "  <tbody>\n",
       "    <tr>\n",
       "      <th>1</th>\n",
       "      <td>42521</td>\n",
       "      <td>2019-02-28 18:53:21.789</td>\n",
       "      <td>2019-03-01 06:42:03.056</td>\n",
       "      <td>23</td>\n",
       "      <td>The Embarcadero at Steuart St</td>\n",
       "      <td>37.791464</td>\n",
       "      <td>-122.391034</td>\n",
       "      <td>81</td>\n",
       "      <td>Berry St at 4th St</td>\n",
       "      <td>37.775880</td>\n",
       "      <td>-122.393170</td>\n",
       "      <td>2535</td>\n",
       "      <td>Customer</td>\n",
       "      <td>NaN</td>\n",
       "      <td>NaN</td>\n",
       "      <td>No</td>\n",
       "      <td>11:48:41</td>\n",
       "      <td>708.683333</td>\n",
       "    </tr>\n",
       "    <tr>\n",
       "      <th>13</th>\n",
       "      <td>915</td>\n",
       "      <td>2019-02-28 23:49:06.062</td>\n",
       "      <td>2019-03-01 00:04:21.867</td>\n",
       "      <td>252</td>\n",
       "      <td>Channing Way at Shattuck Ave</td>\n",
       "      <td>37.865847</td>\n",
       "      <td>-122.267443</td>\n",
       "      <td>244</td>\n",
       "      <td>Shattuck Ave at Hearst Ave</td>\n",
       "      <td>37.873676</td>\n",
       "      <td>-122.268487</td>\n",
       "      <td>5101</td>\n",
       "      <td>Subscriber</td>\n",
       "      <td>NaN</td>\n",
       "      <td>NaN</td>\n",
       "      <td>No</td>\n",
       "      <td>00:15:15</td>\n",
       "      <td>15.250000</td>\n",
       "    </tr>\n",
       "    <tr>\n",
       "      <th>28</th>\n",
       "      <td>650</td>\n",
       "      <td>2019-02-28 23:43:27.503</td>\n",
       "      <td>2019-02-28 23:54:18.451</td>\n",
       "      <td>258</td>\n",
       "      <td>University Ave at Oxford St</td>\n",
       "      <td>37.872355</td>\n",
       "      <td>-122.266447</td>\n",
       "      <td>263</td>\n",
       "      <td>Channing Way at San Pablo Ave</td>\n",
       "      <td>37.862827</td>\n",
       "      <td>-122.290230</td>\n",
       "      <td>4784</td>\n",
       "      <td>Customer</td>\n",
       "      <td>NaN</td>\n",
       "      <td>NaN</td>\n",
       "      <td>No</td>\n",
       "      <td>00:10:50</td>\n",
       "      <td>10.833333</td>\n",
       "    </tr>\n",
       "    <tr>\n",
       "      <th>53</th>\n",
       "      <td>3418</td>\n",
       "      <td>2019-02-28 22:41:16.362</td>\n",
       "      <td>2019-02-28 23:38:14.363</td>\n",
       "      <td>11</td>\n",
       "      <td>Davis St at Jackson St</td>\n",
       "      <td>37.797280</td>\n",
       "      <td>-122.398436</td>\n",
       "      <td>11</td>\n",
       "      <td>Davis St at Jackson St</td>\n",
       "      <td>37.797280</td>\n",
       "      <td>-122.398436</td>\n",
       "      <td>319</td>\n",
       "      <td>Customer</td>\n",
       "      <td>NaN</td>\n",
       "      <td>NaN</td>\n",
       "      <td>No</td>\n",
       "      <td>00:56:58</td>\n",
       "      <td>56.966667</td>\n",
       "    </tr>\n",
       "    <tr>\n",
       "      <th>65</th>\n",
       "      <td>926</td>\n",
       "      <td>2019-02-28 23:17:05.853</td>\n",
       "      <td>2019-02-28 23:32:32.682</td>\n",
       "      <td>13</td>\n",
       "      <td>Commercial St at Montgomery St</td>\n",
       "      <td>37.794231</td>\n",
       "      <td>-122.402923</td>\n",
       "      <td>81</td>\n",
       "      <td>Berry St at 4th St</td>\n",
       "      <td>37.775880</td>\n",
       "      <td>-122.393170</td>\n",
       "      <td>2951</td>\n",
       "      <td>Subscriber</td>\n",
       "      <td>NaN</td>\n",
       "      <td>NaN</td>\n",
       "      <td>No</td>\n",
       "      <td>00:15:26</td>\n",
       "      <td>15.433333</td>\n",
       "    </tr>\n",
       "    <tr>\n",
       "      <th>...</th>\n",
       "      <td>...</td>\n",
       "      <td>...</td>\n",
       "      <td>...</td>\n",
       "      <td>...</td>\n",
       "      <td>...</td>\n",
       "      <td>...</td>\n",
       "      <td>...</td>\n",
       "      <td>...</td>\n",
       "      <td>...</td>\n",
       "      <td>...</td>\n",
       "      <td>...</td>\n",
       "      <td>...</td>\n",
       "      <td>...</td>\n",
       "      <td>...</td>\n",
       "      <td>...</td>\n",
       "      <td>...</td>\n",
       "      <td>...</td>\n",
       "      <td>...</td>\n",
       "    </tr>\n",
       "    <tr>\n",
       "      <th>183354</th>\n",
       "      <td>449</td>\n",
       "      <td>2019-02-01 01:35:07.663</td>\n",
       "      <td>2019-02-01 01:42:36.878</td>\n",
       "      <td>244</td>\n",
       "      <td>Shattuck Ave at Hearst Ave</td>\n",
       "      <td>37.873676</td>\n",
       "      <td>-122.268487</td>\n",
       "      <td>253</td>\n",
       "      <td>Haste St at College Ave</td>\n",
       "      <td>37.866418</td>\n",
       "      <td>-122.253799</td>\n",
       "      <td>5430</td>\n",
       "      <td>Customer</td>\n",
       "      <td>NaN</td>\n",
       "      <td>NaN</td>\n",
       "      <td>No</td>\n",
       "      <td>00:07:29</td>\n",
       "      <td>7.483333</td>\n",
       "    </tr>\n",
       "    <tr>\n",
       "      <th>183356</th>\n",
       "      <td>795</td>\n",
       "      <td>2019-02-01 01:25:50.366</td>\n",
       "      <td>2019-02-01 01:39:05.950</td>\n",
       "      <td>368</td>\n",
       "      <td>Myrtle St at Polk St</td>\n",
       "      <td>37.785434</td>\n",
       "      <td>-122.419622</td>\n",
       "      <td>125</td>\n",
       "      <td>20th St at Bryant St</td>\n",
       "      <td>37.759200</td>\n",
       "      <td>-122.409851</td>\n",
       "      <td>5400</td>\n",
       "      <td>Subscriber</td>\n",
       "      <td>NaN</td>\n",
       "      <td>NaN</td>\n",
       "      <td>No</td>\n",
       "      <td>00:13:15</td>\n",
       "      <td>13.250000</td>\n",
       "    </tr>\n",
       "    <tr>\n",
       "      <th>183363</th>\n",
       "      <td>673</td>\n",
       "      <td>2019-02-01 01:12:24.420</td>\n",
       "      <td>2019-02-01 01:23:37.645</td>\n",
       "      <td>75</td>\n",
       "      <td>Market St at Franklin St</td>\n",
       "      <td>37.773793</td>\n",
       "      <td>-122.421239</td>\n",
       "      <td>133</td>\n",
       "      <td>Valencia St at 22nd St</td>\n",
       "      <td>37.755213</td>\n",
       "      <td>-122.420975</td>\n",
       "      <td>5166</td>\n",
       "      <td>Customer</td>\n",
       "      <td>NaN</td>\n",
       "      <td>NaN</td>\n",
       "      <td>No</td>\n",
       "      <td>00:11:13</td>\n",
       "      <td>11.216667</td>\n",
       "    </tr>\n",
       "    <tr>\n",
       "      <th>183371</th>\n",
       "      <td>196</td>\n",
       "      <td>2019-02-01 01:08:38.641</td>\n",
       "      <td>2019-02-01 01:11:54.949</td>\n",
       "      <td>58</td>\n",
       "      <td>Market St at 10th St</td>\n",
       "      <td>37.776619</td>\n",
       "      <td>-122.417385</td>\n",
       "      <td>75</td>\n",
       "      <td>Market St at Franklin St</td>\n",
       "      <td>37.773793</td>\n",
       "      <td>-122.421239</td>\n",
       "      <td>2395</td>\n",
       "      <td>Customer</td>\n",
       "      <td>NaN</td>\n",
       "      <td>NaN</td>\n",
       "      <td>No</td>\n",
       "      <td>00:03:16</td>\n",
       "      <td>3.266667</td>\n",
       "    </tr>\n",
       "    <tr>\n",
       "      <th>183402</th>\n",
       "      <td>122</td>\n",
       "      <td>2019-02-01 00:17:32.258</td>\n",
       "      <td>2019-02-01 00:19:34.938</td>\n",
       "      <td>119</td>\n",
       "      <td>18th St at Noe St</td>\n",
       "      <td>37.761047</td>\n",
       "      <td>-122.432642</td>\n",
       "      <td>120</td>\n",
       "      <td>Mission Dolores Park</td>\n",
       "      <td>37.761420</td>\n",
       "      <td>-122.426435</td>\n",
       "      <td>4326</td>\n",
       "      <td>Subscriber</td>\n",
       "      <td>NaN</td>\n",
       "      <td>NaN</td>\n",
       "      <td>No</td>\n",
       "      <td>00:02:02</td>\n",
       "      <td>2.033333</td>\n",
       "    </tr>\n",
       "  </tbody>\n",
       "</table>\n",
       "<p>8263 rows × 18 columns</p>\n",
       "</div>"
      ],
      "text/plain": [
       "        duration_sec              start_time                end_time  \\\n",
       "1              42521 2019-02-28 18:53:21.789 2019-03-01 06:42:03.056   \n",
       "13               915 2019-02-28 23:49:06.062 2019-03-01 00:04:21.867   \n",
       "28               650 2019-02-28 23:43:27.503 2019-02-28 23:54:18.451   \n",
       "53              3418 2019-02-28 22:41:16.362 2019-02-28 23:38:14.363   \n",
       "65               926 2019-02-28 23:17:05.853 2019-02-28 23:32:32.682   \n",
       "...              ...                     ...                     ...   \n",
       "183354           449 2019-02-01 01:35:07.663 2019-02-01 01:42:36.878   \n",
       "183356           795 2019-02-01 01:25:50.366 2019-02-01 01:39:05.950   \n",
       "183363           673 2019-02-01 01:12:24.420 2019-02-01 01:23:37.645   \n",
       "183371           196 2019-02-01 01:08:38.641 2019-02-01 01:11:54.949   \n",
       "183402           122 2019-02-01 00:17:32.258 2019-02-01 00:19:34.938   \n",
       "\n",
       "        start_station_id              start_station_name  \\\n",
       "1                     23   The Embarcadero at Steuart St   \n",
       "13                   252    Channing Way at Shattuck Ave   \n",
       "28                   258     University Ave at Oxford St   \n",
       "53                    11          Davis St at Jackson St   \n",
       "65                    13  Commercial St at Montgomery St   \n",
       "...                  ...                             ...   \n",
       "183354               244      Shattuck Ave at Hearst Ave   \n",
       "183356               368            Myrtle St at Polk St   \n",
       "183363                75        Market St at Franklin St   \n",
       "183371                58            Market St at 10th St   \n",
       "183402               119               18th St at Noe St   \n",
       "\n",
       "        start_station_latitude  start_station_longitude  end_station_id  \\\n",
       "1                    37.791464              -122.391034              81   \n",
       "13                   37.865847              -122.267443             244   \n",
       "28                   37.872355              -122.266447             263   \n",
       "53                   37.797280              -122.398436              11   \n",
       "65                   37.794231              -122.402923              81   \n",
       "...                        ...                      ...             ...   \n",
       "183354               37.873676              -122.268487             253   \n",
       "183356               37.785434              -122.419622             125   \n",
       "183363               37.773793              -122.421239             133   \n",
       "183371               37.776619              -122.417385              75   \n",
       "183402               37.761047              -122.432642             120   \n",
       "\n",
       "                     end_station_name  end_station_latitude  \\\n",
       "1                  Berry St at 4th St             37.775880   \n",
       "13         Shattuck Ave at Hearst Ave             37.873676   \n",
       "28      Channing Way at San Pablo Ave             37.862827   \n",
       "53             Davis St at Jackson St             37.797280   \n",
       "65                 Berry St at 4th St             37.775880   \n",
       "...                               ...                   ...   \n",
       "183354        Haste St at College Ave             37.866418   \n",
       "183356           20th St at Bryant St             37.759200   \n",
       "183363         Valencia St at 22nd St             37.755213   \n",
       "183371       Market St at Franklin St             37.773793   \n",
       "183402           Mission Dolores Park             37.761420   \n",
       "\n",
       "        end_station_longitude  bike_id   user_type  member_birth_year  \\\n",
       "1                 -122.393170     2535    Customer                NaN   \n",
       "13                -122.268487     5101  Subscriber                NaN   \n",
       "28                -122.290230     4784    Customer                NaN   \n",
       "53                -122.398436      319    Customer                NaN   \n",
       "65                -122.393170     2951  Subscriber                NaN   \n",
       "...                       ...      ...         ...                ...   \n",
       "183354            -122.253799     5430    Customer                NaN   \n",
       "183356            -122.409851     5400  Subscriber                NaN   \n",
       "183363            -122.420975     5166    Customer                NaN   \n",
       "183371            -122.421239     2395    Customer                NaN   \n",
       "183402            -122.426435     4326  Subscriber                NaN   \n",
       "\n",
       "       member_gender bike_share_for_all_trip duration_hms  duration_minutes  \n",
       "1                NaN                      No     11:48:41        708.683333  \n",
       "13               NaN                      No     00:15:15         15.250000  \n",
       "28               NaN                      No     00:10:50         10.833333  \n",
       "53               NaN                      No     00:56:58         56.966667  \n",
       "65               NaN                      No     00:15:26         15.433333  \n",
       "...              ...                     ...          ...               ...  \n",
       "183354           NaN                      No     00:07:29          7.483333  \n",
       "183356           NaN                      No     00:13:15         13.250000  \n",
       "183363           NaN                      No     00:11:13         11.216667  \n",
       "183371           NaN                      No     00:03:16          3.266667  \n",
       "183402           NaN                      No     00:02:02          2.033333  \n",
       "\n",
       "[8263 rows x 18 columns]"
      ]
     },
     "execution_count": 21,
     "metadata": {},
     "output_type": "execute_result"
    }
   ],
   "source": [
    "#select rows with Nan values\n",
    "bike_data_clean.query('member_birth_year == \"NaN\"')"
   ]
  },
  {
   "cell_type": "code",
   "execution_count": 22,
   "metadata": {},
   "outputs": [],
   "source": [
    "#remove NaN values\n",
    "bike_data_clean = bike_data_clean[bike_data_clean['member_birth_year'].notna()]"
   ]
  },
  {
   "cell_type": "code",
   "execution_count": 23,
   "metadata": {},
   "outputs": [],
   "source": [
    "#convert year to int\n",
    "bike_data_clean = bike_data_clean.astype({\"member_birth_year\":'int'})"
   ]
  },
  {
   "cell_type": "markdown",
   "metadata": {},
   "source": [
    "**TEST**"
   ]
  },
  {
   "cell_type": "code",
   "execution_count": 24,
   "metadata": {},
   "outputs": [
    {
     "data": {
      "text/plain": [
       "duration_sec                        int64\n",
       "start_time                 datetime64[ns]\n",
       "end_time                   datetime64[ns]\n",
       "start_station_id                    int32\n",
       "start_station_name                 object\n",
       "start_station_latitude            float64\n",
       "start_station_longitude           float64\n",
       "end_station_id                      int32\n",
       "end_station_name                   object\n",
       "end_station_latitude              float64\n",
       "end_station_longitude             float64\n",
       "bike_id                             int64\n",
       "user_type                          object\n",
       "member_birth_year                   int32\n",
       "member_gender                      object\n",
       "bike_share_for_all_trip            object\n",
       "duration_hms                       object\n",
       "duration_minutes                  float64\n",
       "dtype: object"
      ]
     },
     "metadata": {},
     "output_type": "display_data"
    }
   ],
   "source": [
    "#bike_data_clean.head()\n",
    "display(bike_data_clean.dtypes)"
   ]
  },
  {
   "cell_type": "markdown",
   "metadata": {},
   "source": [
    "### DATA EXPLORATION"
   ]
  },
  {
   "cell_type": "markdown",
   "metadata": {},
   "source": [
    "**EXPLORE GENDER OF RIDERS**"
   ]
  },
  {
   "cell_type": "code",
   "execution_count": 25,
   "metadata": {},
   "outputs": [
    {
     "data": {
      "text/plain": [
       "Male      130500\n",
       "Female     40805\n",
       "Other       3647\n",
       "Name: member_gender, dtype: int64"
      ]
     },
     "execution_count": 25,
     "metadata": {},
     "output_type": "execute_result"
    }
   ],
   "source": [
    "#ratio of male to female riders\n",
    "sorted_counts = bike_data_clean['member_gender'].value_counts()\n",
    "sorted_counts"
   ]
  },
  {
   "cell_type": "code",
   "execution_count": 26,
   "metadata": {},
   "outputs": [
    {
     "data": {
      "image/png": "[encoded data removed]",
      "text/plain": [
       "<Figure size 432x288 with 1 Axes>"
      ]
     },
     "metadata": {},
     "output_type": "display_data"
    }
   ],
   "source": [
    "sorted_counts.index = ['Male', 'Female', 'Others']\n",
    "plt.pie(sorted_counts, labels = sorted_counts.index, startangle = 90, counterclock=False, autopct='%1.0f%%', pctdistance=1.1, labeldistance=1.3, wedgeprops={'width':0.4});\n",
    "plt.axis('square');"
   ]
  },
  {
   "cell_type": "markdown",
   "metadata": {},
   "source": [
    "75% of riders are male, according to an article I found on the internet it is expected because females are more concerned about their safety than male and also the possibility of cycling smudging their makeup or messing up their hair, females tend to avoid this means of transportation."
   ]
  },
  {
   "cell_type": "markdown",
   "metadata": {},
   "source": [
    "**Explore status of riders**"
   ]
  },
  {
   "cell_type": "code",
   "execution_count": 27,
   "metadata": {},
   "outputs": [
    {
     "data": {
      "image/png": "[encoded data removed]",
      "text/plain": [
       "<Figure size 432x288 with 1 Axes>"
      ]
     },
     "metadata": {
      "needs_background": "light"
     },
     "output_type": "display_data"
    }
   ],
   "source": [
    "#plot of subscriber to non-subscribers\n",
    "sns.countplot(data=bike_data_clean, x='user_type');"
   ]
  },
  {
   "cell_type": "markdown",
   "metadata": {},
   "source": [
    "User Type (Customer = 24-hour pass or 3-day pass user; Subscriber = Annual Member).This also explains the duration between start time and end time. There is a possibility that having an annual subscription is cheaper than renting for short periods. Hence the high ratio of subscribers to casual users of this services. This couls also be a marketing startegy to egt more users to subscribe to the services instead ernting casually."
   ]
  },
  {
   "cell_type": "markdown",
   "metadata": {},
   "source": [
    "**Explore age of riders**\n",
    "\n",
    "compare age to user_type"
   ]
  },
  {
   "cell_type": "code",
   "execution_count": 28,
   "metadata": {},
   "outputs": [
    {
     "data": {
      "text/plain": [
       "array([1984, 1972, 1989, 1974, 1959, 1983, 1988, 1992, 1996, 1993, 1990,\n",
       "       1981, 1975, 1978, 1991, 1997, 1986, 2000, 1982, 1995, 1980, 1973,\n",
       "       1985, 1971, 1979, 1967, 1998, 1994, 1977, 1999, 1987, 1969, 1963,\n",
       "       1976, 1964, 1965, 1961, 1968, 1966, 1962, 1954, 1958, 1960, 1970,\n",
       "       1956, 1957, 1945, 1900, 1952, 1948, 1951, 1941, 1950, 1949, 1953,\n",
       "       1955, 1946, 1947, 1931, 1943, 1942, 1920, 1933, 2001, 1878, 1901,\n",
       "       1944, 1928, 1934, 1939, 1930, 1902, 1910, 1938, 1927])"
      ]
     },
     "execution_count": 28,
     "metadata": {},
     "output_type": "execute_result"
    }
   ],
   "source": [
    "bike_data_clean['member_birth_year'].unique()"
   ]
  },
  {
   "cell_type": "code",
   "execution_count": 29,
   "metadata": {},
   "outputs": [
    {
     "data": {
      "text/html": [
       "<div>\n",
       "<style scoped>\n",
       "    .dataframe tbody tr th:only-of-type {\n",
       "        vertical-align: middle;\n",
       "    }\n",
       "\n",
       "    .dataframe tbody tr th {\n",
       "        vertical-align: top;\n",
       "    }\n",
       "\n",
       "    .dataframe thead th {\n",
       "        text-align: right;\n",
       "    }\n",
       "</style>\n",
       "<table border=\"1\" class=\"dataframe\">\n",
       "  <thead>\n",
       "    <tr style=\"text-align: right;\">\n",
       "      <th></th>\n",
       "      <th>duration_sec</th>\n",
       "      <th>start_time</th>\n",
       "      <th>end_time</th>\n",
       "      <th>start_station_id</th>\n",
       "      <th>start_station_name</th>\n",
       "      <th>start_station_latitude</th>\n",
       "      <th>start_station_longitude</th>\n",
       "      <th>end_station_id</th>\n",
       "      <th>end_station_name</th>\n",
       "      <th>end_station_latitude</th>\n",
       "      <th>end_station_longitude</th>\n",
       "      <th>bike_id</th>\n",
       "      <th>user_type</th>\n",
       "      <th>member_birth_year</th>\n",
       "      <th>member_gender</th>\n",
       "      <th>bike_share_for_all_trip</th>\n",
       "      <th>duration_hms</th>\n",
       "      <th>duration_minutes</th>\n",
       "    </tr>\n",
       "  </thead>\n",
       "  <tbody>\n",
       "  </tbody>\n",
       "</table>\n",
       "</div>"
      ],
      "text/plain": [
       "Empty DataFrame\n",
       "Columns: [duration_sec, start_time, end_time, start_station_id, start_station_name, start_station_latitude, start_station_longitude, end_station_id, end_station_name, end_station_latitude, end_station_longitude, bike_id, user_type, member_birth_year, member_gender, bike_share_for_all_trip, duration_hms, duration_minutes]\n",
       "Index: []"
      ]
     },
     "execution_count": 29,
     "metadata": {},
     "output_type": "execute_result"
    }
   ],
   "source": [
    "bike_data_clean.query('member_birth_year == 0')"
   ]
  },
  {
   "cell_type": "markdown",
   "metadata": {},
   "source": [
    "**Create column for age, and extract age of riders from the birth year column.**"
   ]
  },
  {
   "cell_type": "code",
   "execution_count": 30,
   "metadata": {},
   "outputs": [],
   "source": [
    "#Create column for ages\n",
    "bike_data_clean['member_age'] = bike_data_clean['member_birth_year'].apply(lambda x: 2018 - x)"
   ]
  },
  {
   "cell_type": "code",
   "execution_count": 31,
   "metadata": {},
   "outputs": [
    {
     "data": {
      "text/html": [
       "<div>\n",
       "<style scoped>\n",
       "    .dataframe tbody tr th:only-of-type {\n",
       "        vertical-align: middle;\n",
       "    }\n",
       "\n",
       "    .dataframe tbody tr th {\n",
       "        vertical-align: top;\n",
       "    }\n",
       "\n",
       "    .dataframe thead th {\n",
       "        text-align: right;\n",
       "    }\n",
       "</style>\n",
       "<table border=\"1\" class=\"dataframe\">\n",
       "  <thead>\n",
       "    <tr style=\"text-align: right;\">\n",
       "      <th></th>\n",
       "      <th>duration_sec</th>\n",
       "      <th>start_time</th>\n",
       "      <th>end_time</th>\n",
       "      <th>start_station_id</th>\n",
       "      <th>start_station_name</th>\n",
       "      <th>start_station_latitude</th>\n",
       "      <th>start_station_longitude</th>\n",
       "      <th>end_station_id</th>\n",
       "      <th>end_station_name</th>\n",
       "      <th>end_station_latitude</th>\n",
       "      <th>end_station_longitude</th>\n",
       "      <th>bike_id</th>\n",
       "      <th>user_type</th>\n",
       "      <th>member_birth_year</th>\n",
       "      <th>member_gender</th>\n",
       "      <th>bike_share_for_all_trip</th>\n",
       "      <th>duration_hms</th>\n",
       "      <th>duration_minutes</th>\n",
       "      <th>member_age</th>\n",
       "    </tr>\n",
       "  </thead>\n",
       "  <tbody>\n",
       "    <tr>\n",
       "      <th>0</th>\n",
       "      <td>52185</td>\n",
       "      <td>2019-02-28 17:32:10.145</td>\n",
       "      <td>2019-03-01 08:01:55.975</td>\n",
       "      <td>21</td>\n",
       "      <td>Montgomery St BART Station (Market St at 2nd St)</td>\n",
       "      <td>37.789625</td>\n",
       "      <td>-122.400811</td>\n",
       "      <td>13</td>\n",
       "      <td>Commercial St at Montgomery St</td>\n",
       "      <td>37.794231</td>\n",
       "      <td>-122.402923</td>\n",
       "      <td>4902</td>\n",
       "      <td>Customer</td>\n",
       "      <td>1984</td>\n",
       "      <td>Male</td>\n",
       "      <td>No</td>\n",
       "      <td>14:29:45</td>\n",
       "      <td>869.750000</td>\n",
       "      <td>34</td>\n",
       "    </tr>\n",
       "    <tr>\n",
       "      <th>2</th>\n",
       "      <td>61854</td>\n",
       "      <td>2019-02-28 12:13:13.218</td>\n",
       "      <td>2019-03-01 05:24:08.146</td>\n",
       "      <td>86</td>\n",
       "      <td>Market St at Dolores St</td>\n",
       "      <td>37.769305</td>\n",
       "      <td>-122.426826</td>\n",
       "      <td>3</td>\n",
       "      <td>Powell St BART Station (Market St at 4th St)</td>\n",
       "      <td>37.786375</td>\n",
       "      <td>-122.404904</td>\n",
       "      <td>5905</td>\n",
       "      <td>Customer</td>\n",
       "      <td>1972</td>\n",
       "      <td>Male</td>\n",
       "      <td>No</td>\n",
       "      <td>17:10:54</td>\n",
       "      <td>1030.900000</td>\n",
       "      <td>46</td>\n",
       "    </tr>\n",
       "    <tr>\n",
       "      <th>3</th>\n",
       "      <td>36490</td>\n",
       "      <td>2019-02-28 17:54:26.010</td>\n",
       "      <td>2019-03-01 04:02:36.842</td>\n",
       "      <td>375</td>\n",
       "      <td>Grove St at Masonic Ave</td>\n",
       "      <td>37.774836</td>\n",
       "      <td>-122.446546</td>\n",
       "      <td>70</td>\n",
       "      <td>Central Ave at Fell St</td>\n",
       "      <td>37.773311</td>\n",
       "      <td>-122.444293</td>\n",
       "      <td>6638</td>\n",
       "      <td>Subscriber</td>\n",
       "      <td>1989</td>\n",
       "      <td>Other</td>\n",
       "      <td>No</td>\n",
       "      <td>10:08:10</td>\n",
       "      <td>608.166667</td>\n",
       "      <td>29</td>\n",
       "    </tr>\n",
       "    <tr>\n",
       "      <th>4</th>\n",
       "      <td>1585</td>\n",
       "      <td>2019-02-28 23:54:18.549</td>\n",
       "      <td>2019-03-01 00:20:44.074</td>\n",
       "      <td>7</td>\n",
       "      <td>Frank H Ogawa Plaza</td>\n",
       "      <td>37.804562</td>\n",
       "      <td>-122.271738</td>\n",
       "      <td>222</td>\n",
       "      <td>10th Ave at E 15th St</td>\n",
       "      <td>37.792714</td>\n",
       "      <td>-122.248780</td>\n",
       "      <td>4898</td>\n",
       "      <td>Subscriber</td>\n",
       "      <td>1974</td>\n",
       "      <td>Male</td>\n",
       "      <td>Yes</td>\n",
       "      <td>00:26:25</td>\n",
       "      <td>26.416667</td>\n",
       "      <td>44</td>\n",
       "    </tr>\n",
       "    <tr>\n",
       "      <th>5</th>\n",
       "      <td>1793</td>\n",
       "      <td>2019-02-28 23:49:58.632</td>\n",
       "      <td>2019-03-01 00:19:51.760</td>\n",
       "      <td>93</td>\n",
       "      <td>4th St at Mission Bay Blvd S</td>\n",
       "      <td>37.770407</td>\n",
       "      <td>-122.391198</td>\n",
       "      <td>323</td>\n",
       "      <td>Broadway at Kearny</td>\n",
       "      <td>37.798014</td>\n",
       "      <td>-122.405950</td>\n",
       "      <td>5200</td>\n",
       "      <td>Subscriber</td>\n",
       "      <td>1959</td>\n",
       "      <td>Male</td>\n",
       "      <td>No</td>\n",
       "      <td>00:29:53</td>\n",
       "      <td>29.883333</td>\n",
       "      <td>59</td>\n",
       "    </tr>\n",
       "  </tbody>\n",
       "</table>\n",
       "</div>"
      ],
      "text/plain": [
       "   duration_sec              start_time                end_time  \\\n",
       "0         52185 2019-02-28 17:32:10.145 2019-03-01 08:01:55.975   \n",
       "2         61854 2019-02-28 12:13:13.218 2019-03-01 05:24:08.146   \n",
       "3         36490 2019-02-28 17:54:26.010 2019-03-01 04:02:36.842   \n",
       "4          1585 2019-02-28 23:54:18.549 2019-03-01 00:20:44.074   \n",
       "5          1793 2019-02-28 23:49:58.632 2019-03-01 00:19:51.760   \n",
       "\n",
       "   start_station_id                                start_station_name  \\\n",
       "0                21  Montgomery St BART Station (Market St at 2nd St)   \n",
       "2                86                           Market St at Dolores St   \n",
       "3               375                           Grove St at Masonic Ave   \n",
       "4                 7                               Frank H Ogawa Plaza   \n",
       "5                93                      4th St at Mission Bay Blvd S   \n",
       "\n",
       "   start_station_latitude  start_station_longitude  end_station_id  \\\n",
       "0               37.789625              -122.400811              13   \n",
       "2               37.769305              -122.426826               3   \n",
       "3               37.774836              -122.446546              70   \n",
       "4               37.804562              -122.271738             222   \n",
       "5               37.770407              -122.391198             323   \n",
       "\n",
       "                               end_station_name  end_station_latitude  \\\n",
       "0                Commercial St at Montgomery St             37.794231   \n",
       "2  Powell St BART Station (Market St at 4th St)             37.786375   \n",
       "3                        Central Ave at Fell St             37.773311   \n",
       "4                         10th Ave at E 15th St             37.792714   \n",
       "5                            Broadway at Kearny             37.798014   \n",
       "\n",
       "   end_station_longitude  bike_id   user_type  member_birth_year  \\\n",
       "0            -122.402923     4902    Customer               1984   \n",
       "2            -122.404904     5905    Customer               1972   \n",
       "3            -122.444293     6638  Subscriber               1989   \n",
       "4            -122.248780     4898  Subscriber               1974   \n",
       "5            -122.405950     5200  Subscriber               1959   \n",
       "\n",
       "  member_gender bike_share_for_all_trip duration_hms  duration_minutes  \\\n",
       "0          Male                      No     14:29:45        869.750000   \n",
       "2          Male                      No     17:10:54       1030.900000   \n",
       "3         Other                      No     10:08:10        608.166667   \n",
       "4          Male                     Yes     00:26:25         26.416667   \n",
       "5          Male                      No     00:29:53         29.883333   \n",
       "\n",
       "   member_age  \n",
       "0          34  \n",
       "2          46  \n",
       "3          29  \n",
       "4          44  \n",
       "5          59  "
      ]
     },
     "execution_count": 31,
     "metadata": {},
     "output_type": "execute_result"
    }
   ],
   "source": [
    "bike_data_clean.head()"
   ]
  },
  {
   "cell_type": "code",
   "execution_count": 32,
   "metadata": {},
   "outputs": [
    {
     "data": {
      "image/png": "[encoded data removed]",
      "text/plain": [
       "<Figure size 432x288 with 1 Axes>"
      ]
     },
     "metadata": {
      "needs_background": "light"
     },
     "output_type": "display_data"
    }
   ],
   "source": [
    "plt.hist(data=bike_data_clean, x='member_age');"
   ]
  },
  {
   "cell_type": "markdown",
   "metadata": {},
   "source": [
    "Birth year is skewed to the right. Most riders fall within the age range of 20 and 40years. "
   ]
  },
  {
   "cell_type": "code",
   "execution_count": 33,
   "metadata": {},
   "outputs": [
    {
     "data": {
      "text/plain": [
       "count    174952.000000\n",
       "mean         33.196865\n",
       "std          10.118731\n",
       "min          17.000000\n",
       "25%          26.000000\n",
       "50%          31.000000\n",
       "75%          38.000000\n",
       "max         140.000000\n",
       "Name: member_age, dtype: float64"
      ]
     },
     "execution_count": 33,
     "metadata": {},
     "output_type": "execute_result"
    }
   ],
   "source": [
    "bike_data_clean.member_age.describe()"
   ]
  },
  {
   "cell_type": "markdown",
   "metadata": {},
   "source": [
    "**EXPLORE DAY OF WEEK**"
   ]
  },
  {
   "cell_type": "code",
   "execution_count": 34,
   "metadata": {},
   "outputs": [],
   "source": [
    "#extract day of the week for the start trip from the start_time column as it is a datatime\n",
    "bike_data_clean['start_day_of_week'] = bike_data_clean['start_time'].dt.day_name()"
   ]
  },
  {
   "cell_type": "code",
   "execution_count": 35,
   "metadata": {},
   "outputs": [],
   "source": [
    "#extract the day the trip ended or the bike was returned from the end time of the triip\n",
    "bike_data_clean['end_day_of_week'] = bike_data_clean['end_time'].dt.day_name()"
   ]
  },
  {
   "cell_type": "code",
   "execution_count": 36,
   "metadata": {
    "scrolled": false
   },
   "outputs": [
    {
     "data": {
      "text/html": [
       "<div>\n",
       "<style scoped>\n",
       "    .dataframe tbody tr th:only-of-type {\n",
       "        vertical-align: middle;\n",
       "    }\n",
       "\n",
       "    .dataframe tbody tr th {\n",
       "        vertical-align: top;\n",
       "    }\n",
       "\n",
       "    .dataframe thead th {\n",
       "        text-align: right;\n",
       "    }\n",
       "</style>\n",
       "<table border=\"1\" class=\"dataframe\">\n",
       "  <thead>\n",
       "    <tr style=\"text-align: right;\">\n",
       "      <th></th>\n",
       "      <th>duration_sec</th>\n",
       "      <th>start_time</th>\n",
       "      <th>end_time</th>\n",
       "      <th>start_station_id</th>\n",
       "      <th>start_station_name</th>\n",
       "      <th>start_station_latitude</th>\n",
       "      <th>start_station_longitude</th>\n",
       "      <th>end_station_id</th>\n",
       "      <th>end_station_name</th>\n",
       "      <th>end_station_latitude</th>\n",
       "      <th>...</th>\n",
       "      <th>bike_id</th>\n",
       "      <th>user_type</th>\n",
       "      <th>member_birth_year</th>\n",
       "      <th>member_gender</th>\n",
       "      <th>bike_share_for_all_trip</th>\n",
       "      <th>duration_hms</th>\n",
       "      <th>duration_minutes</th>\n",
       "      <th>member_age</th>\n",
       "      <th>start_day_of_week</th>\n",
       "      <th>end_day_of_week</th>\n",
       "    </tr>\n",
       "  </thead>\n",
       "  <tbody>\n",
       "    <tr>\n",
       "      <th>0</th>\n",
       "      <td>52185</td>\n",
       "      <td>2019-02-28 17:32:10.145</td>\n",
       "      <td>2019-03-01 08:01:55.975</td>\n",
       "      <td>21</td>\n",
       "      <td>Montgomery St BART Station (Market St at 2nd St)</td>\n",
       "      <td>37.789625</td>\n",
       "      <td>-122.400811</td>\n",
       "      <td>13</td>\n",
       "      <td>Commercial St at Montgomery St</td>\n",
       "      <td>37.794231</td>\n",
       "      <td>...</td>\n",
       "      <td>4902</td>\n",
       "      <td>Customer</td>\n",
       "      <td>1984</td>\n",
       "      <td>Male</td>\n",
       "      <td>No</td>\n",
       "      <td>14:29:45</td>\n",
       "      <td>869.750000</td>\n",
       "      <td>34</td>\n",
       "      <td>Thursday</td>\n",
       "      <td>Friday</td>\n",
       "    </tr>\n",
       "    <tr>\n",
       "      <th>2</th>\n",
       "      <td>61854</td>\n",
       "      <td>2019-02-28 12:13:13.218</td>\n",
       "      <td>2019-03-01 05:24:08.146</td>\n",
       "      <td>86</td>\n",
       "      <td>Market St at Dolores St</td>\n",
       "      <td>37.769305</td>\n",
       "      <td>-122.426826</td>\n",
       "      <td>3</td>\n",
       "      <td>Powell St BART Station (Market St at 4th St)</td>\n",
       "      <td>37.786375</td>\n",
       "      <td>...</td>\n",
       "      <td>5905</td>\n",
       "      <td>Customer</td>\n",
       "      <td>1972</td>\n",
       "      <td>Male</td>\n",
       "      <td>No</td>\n",
       "      <td>17:10:54</td>\n",
       "      <td>1030.900000</td>\n",
       "      <td>46</td>\n",
       "      <td>Thursday</td>\n",
       "      <td>Friday</td>\n",
       "    </tr>\n",
       "    <tr>\n",
       "      <th>3</th>\n",
       "      <td>36490</td>\n",
       "      <td>2019-02-28 17:54:26.010</td>\n",
       "      <td>2019-03-01 04:02:36.842</td>\n",
       "      <td>375</td>\n",
       "      <td>Grove St at Masonic Ave</td>\n",
       "      <td>37.774836</td>\n",
       "      <td>-122.446546</td>\n",
       "      <td>70</td>\n",
       "      <td>Central Ave at Fell St</td>\n",
       "      <td>37.773311</td>\n",
       "      <td>...</td>\n",
       "      <td>6638</td>\n",
       "      <td>Subscriber</td>\n",
       "      <td>1989</td>\n",
       "      <td>Other</td>\n",
       "      <td>No</td>\n",
       "      <td>10:08:10</td>\n",
       "      <td>608.166667</td>\n",
       "      <td>29</td>\n",
       "      <td>Thursday</td>\n",
       "      <td>Friday</td>\n",
       "    </tr>\n",
       "    <tr>\n",
       "      <th>4</th>\n",
       "      <td>1585</td>\n",
       "      <td>2019-02-28 23:54:18.549</td>\n",
       "      <td>2019-03-01 00:20:44.074</td>\n",
       "      <td>7</td>\n",
       "      <td>Frank H Ogawa Plaza</td>\n",
       "      <td>37.804562</td>\n",
       "      <td>-122.271738</td>\n",
       "      <td>222</td>\n",
       "      <td>10th Ave at E 15th St</td>\n",
       "      <td>37.792714</td>\n",
       "      <td>...</td>\n",
       "      <td>4898</td>\n",
       "      <td>Subscriber</td>\n",
       "      <td>1974</td>\n",
       "      <td>Male</td>\n",
       "      <td>Yes</td>\n",
       "      <td>00:26:25</td>\n",
       "      <td>26.416667</td>\n",
       "      <td>44</td>\n",
       "      <td>Thursday</td>\n",
       "      <td>Friday</td>\n",
       "    </tr>\n",
       "    <tr>\n",
       "      <th>5</th>\n",
       "      <td>1793</td>\n",
       "      <td>2019-02-28 23:49:58.632</td>\n",
       "      <td>2019-03-01 00:19:51.760</td>\n",
       "      <td>93</td>\n",
       "      <td>4th St at Mission Bay Blvd S</td>\n",
       "      <td>37.770407</td>\n",
       "      <td>-122.391198</td>\n",
       "      <td>323</td>\n",
       "      <td>Broadway at Kearny</td>\n",
       "      <td>37.798014</td>\n",
       "      <td>...</td>\n",
       "      <td>5200</td>\n",
       "      <td>Subscriber</td>\n",
       "      <td>1959</td>\n",
       "      <td>Male</td>\n",
       "      <td>No</td>\n",
       "      <td>00:29:53</td>\n",
       "      <td>29.883333</td>\n",
       "      <td>59</td>\n",
       "      <td>Thursday</td>\n",
       "      <td>Friday</td>\n",
       "    </tr>\n",
       "  </tbody>\n",
       "</table>\n",
       "<p>5 rows × 21 columns</p>\n",
       "</div>"
      ],
      "text/plain": [
       "   duration_sec              start_time                end_time  \\\n",
       "0         52185 2019-02-28 17:32:10.145 2019-03-01 08:01:55.975   \n",
       "2         61854 2019-02-28 12:13:13.218 2019-03-01 05:24:08.146   \n",
       "3         36490 2019-02-28 17:54:26.010 2019-03-01 04:02:36.842   \n",
       "4          1585 2019-02-28 23:54:18.549 2019-03-01 00:20:44.074   \n",
       "5          1793 2019-02-28 23:49:58.632 2019-03-01 00:19:51.760   \n",
       "\n",
       "   start_station_id                                start_station_name  \\\n",
       "0                21  Montgomery St BART Station (Market St at 2nd St)   \n",
       "2                86                           Market St at Dolores St   \n",
       "3               375                           Grove St at Masonic Ave   \n",
       "4                 7                               Frank H Ogawa Plaza   \n",
       "5                93                      4th St at Mission Bay Blvd S   \n",
       "\n",
       "   start_station_latitude  start_station_longitude  end_station_id  \\\n",
       "0               37.789625              -122.400811              13   \n",
       "2               37.769305              -122.426826               3   \n",
       "3               37.774836              -122.446546              70   \n",
       "4               37.804562              -122.271738             222   \n",
       "5               37.770407              -122.391198             323   \n",
       "\n",
       "                               end_station_name  end_station_latitude  ...  \\\n",
       "0                Commercial St at Montgomery St             37.794231  ...   \n",
       "2  Powell St BART Station (Market St at 4th St)             37.786375  ...   \n",
       "3                        Central Ave at Fell St             37.773311  ...   \n",
       "4                         10th Ave at E 15th St             37.792714  ...   \n",
       "5                            Broadway at Kearny             37.798014  ...   \n",
       "\n",
       "   bike_id   user_type member_birth_year  member_gender  \\\n",
       "0     4902    Customer              1984           Male   \n",
       "2     5905    Customer              1972           Male   \n",
       "3     6638  Subscriber              1989          Other   \n",
       "4     4898  Subscriber              1974           Male   \n",
       "5     5200  Subscriber              1959           Male   \n",
       "\n",
       "  bike_share_for_all_trip duration_hms duration_minutes  member_age  \\\n",
       "0                      No     14:29:45       869.750000          34   \n",
       "2                      No     17:10:54      1030.900000          46   \n",
       "3                      No     10:08:10       608.166667          29   \n",
       "4                     Yes     00:26:25        26.416667          44   \n",
       "5                      No     00:29:53        29.883333          59   \n",
       "\n",
       "   start_day_of_week end_day_of_week  \n",
       "0           Thursday          Friday  \n",
       "2           Thursday          Friday  \n",
       "3           Thursday          Friday  \n",
       "4           Thursday          Friday  \n",
       "5           Thursday          Friday  \n",
       "\n",
       "[5 rows x 21 columns]"
      ]
     },
     "execution_count": 36,
     "metadata": {},
     "output_type": "execute_result"
    }
   ],
   "source": [
    "bike_data_clean.head()"
   ]
  },
  {
   "cell_type": "markdown",
   "metadata": {},
   "source": [
    "It is possible that some of the users that rent these bikes take them home, because calculating from the start and end time and also duration it appears to be in possession of some users for more than one day."
   ]
  },
  {
   "cell_type": "code",
   "execution_count": 37,
   "metadata": {},
   "outputs": [
    {
     "data": {
      "image/png": "[encoded data removed]",
      "text/plain": [
       "<Figure size 432x288 with 1 Axes>"
      ]
     },
     "metadata": {
      "needs_background": "light"
     },
     "output_type": "display_data"
    }
   ],
   "source": [
    "base_color = sns.color_palette()[0]\n",
    "order = bike_data_clean.sort_values('start_day_of_week')\n",
    "sns.countplot(data=bike_data_clean, x='start_day_of_week', color=base_color)\n",
    "plt.xticks(rotation=15);"
   ]
  },
  {
   "cell_type": "code",
   "execution_count": 38,
   "metadata": {},
   "outputs": [
    {
     "data": {
      "image/png": "[encoded data removed]",
      "text/plain": [
       "<Figure size 432x288 with 1 Axes>"
      ]
     },
     "metadata": {
      "needs_background": "light"
     },
     "output_type": "display_data"
    }
   ],
   "source": [
    "base_color=sns.color_palette()[0]\n",
    "sns.countplot(data=bike_data_clean, x='end_day_of_week', color=base_color)\n",
    "plt.xticks(rotation=15);"
   ]
  },
  {
   "cell_type": "markdown",
   "metadata": {},
   "source": [
    "Thursday has the highest number of usage. There is very low usage during weekends. the peak on thursday could be due to traffic or demand for individuals to get to the train station to catch a train for the weekend. Exploring the time of this peak can give more insights"
   ]
  },
  {
   "cell_type": "code",
   "execution_count": 39,
   "metadata": {},
   "outputs": [
    {
     "data": {
      "text/plain": [
       "start_day_of_week  end_day_of_week\n",
       "Friday             Friday             27611\n",
       "                   Saturday              52\n",
       "Monday             Monday             25604\n",
       "                   Tuesday               37\n",
       "Saturday           Saturday           14370\n",
       "                   Sunday                44\n",
       "Sunday             Monday                37\n",
       "                   Sunday             14475\n",
       "Thursday           Friday                44\n",
       "                   Thursday           33668\n",
       "Tuesday            Tuesday            30554\n",
       "                   Wednesday             30\n",
       "Wednesday          Thursday              39\n",
       "                   Wednesday          28387\n",
       "dtype: int64"
      ]
     },
     "execution_count": 39,
     "metadata": {},
     "output_type": "execute_result"
    }
   ],
   "source": [
    "count = bike_data_clean.groupby(['start_day_of_week', 'end_day_of_week']).size()\n",
    "count"
   ]
  },
  {
   "cell_type": "markdown",
   "metadata": {},
   "source": [
    "**Explore months and compare average rides for each month**"
   ]
  },
  {
   "cell_type": "code",
   "execution_count": 40,
   "metadata": {},
   "outputs": [],
   "source": [
    "#source:https://stackoverflow.com/questions/25146121/extracting-just-month-and-year-separately-from-pandas-datetime-column\n",
    "bike_data_clean['start_month'] = bike_data_clean['start_time'].dt.month"
   ]
  },
  {
   "cell_type": "code",
   "execution_count": 41,
   "metadata": {},
   "outputs": [],
   "source": [
    "bike_data_clean['end_month'] = bike_data_clean['end_time'].dt.month"
   ]
  },
  {
   "cell_type": "code",
   "execution_count": 42,
   "metadata": {},
   "outputs": [
    {
     "data": {
      "text/plain": [
       "start_month\n",
       "2    174952\n",
       "dtype: int64"
      ]
     },
     "execution_count": 42,
     "metadata": {},
     "output_type": "execute_result"
    }
   ],
   "source": [
    "#bike_data_clean['start_month'].value_counts()\n",
    "count = bike_data_clean.groupby(['start_month']).size()\n",
    "count"
   ]
  },
  {
   "cell_type": "code",
   "execution_count": 43,
   "metadata": {},
   "outputs": [
    {
     "data": {
      "text/html": [
       "<div>\n",
       "<style scoped>\n",
       "    .dataframe tbody tr th:only-of-type {\n",
       "        vertical-align: middle;\n",
       "    }\n",
       "\n",
       "    .dataframe tbody tr th {\n",
       "        vertical-align: top;\n",
       "    }\n",
       "\n",
       "    .dataframe thead th {\n",
       "        text-align: right;\n",
       "    }\n",
       "</style>\n",
       "<table border=\"1\" class=\"dataframe\">\n",
       "  <thead>\n",
       "    <tr style=\"text-align: right;\">\n",
       "      <th></th>\n",
       "      <th>duration_sec</th>\n",
       "      <th>start_time</th>\n",
       "      <th>end_time</th>\n",
       "      <th>start_station_id</th>\n",
       "      <th>start_station_name</th>\n",
       "      <th>start_station_latitude</th>\n",
       "      <th>start_station_longitude</th>\n",
       "      <th>end_station_id</th>\n",
       "      <th>end_station_name</th>\n",
       "      <th>end_station_latitude</th>\n",
       "      <th>...</th>\n",
       "      <th>member_birth_year</th>\n",
       "      <th>member_gender</th>\n",
       "      <th>bike_share_for_all_trip</th>\n",
       "      <th>duration_hms</th>\n",
       "      <th>duration_minutes</th>\n",
       "      <th>member_age</th>\n",
       "      <th>start_day_of_week</th>\n",
       "      <th>end_day_of_week</th>\n",
       "      <th>start_month</th>\n",
       "      <th>end_month</th>\n",
       "    </tr>\n",
       "  </thead>\n",
       "  <tbody>\n",
       "    <tr>\n",
       "      <th>0</th>\n",
       "      <td>52185</td>\n",
       "      <td>2019-02-28 17:32:10.145</td>\n",
       "      <td>2019-03-01 08:01:55.975</td>\n",
       "      <td>21</td>\n",
       "      <td>Montgomery St BART Station (Market St at 2nd St)</td>\n",
       "      <td>37.789625</td>\n",
       "      <td>-122.400811</td>\n",
       "      <td>13</td>\n",
       "      <td>Commercial St at Montgomery St</td>\n",
       "      <td>37.794231</td>\n",
       "      <td>...</td>\n",
       "      <td>1984</td>\n",
       "      <td>Male</td>\n",
       "      <td>No</td>\n",
       "      <td>14:29:45</td>\n",
       "      <td>869.750000</td>\n",
       "      <td>34</td>\n",
       "      <td>Thursday</td>\n",
       "      <td>Friday</td>\n",
       "      <td>2</td>\n",
       "      <td>3</td>\n",
       "    </tr>\n",
       "    <tr>\n",
       "      <th>2</th>\n",
       "      <td>61854</td>\n",
       "      <td>2019-02-28 12:13:13.218</td>\n",
       "      <td>2019-03-01 05:24:08.146</td>\n",
       "      <td>86</td>\n",
       "      <td>Market St at Dolores St</td>\n",
       "      <td>37.769305</td>\n",
       "      <td>-122.426826</td>\n",
       "      <td>3</td>\n",
       "      <td>Powell St BART Station (Market St at 4th St)</td>\n",
       "      <td>37.786375</td>\n",
       "      <td>...</td>\n",
       "      <td>1972</td>\n",
       "      <td>Male</td>\n",
       "      <td>No</td>\n",
       "      <td>17:10:54</td>\n",
       "      <td>1030.900000</td>\n",
       "      <td>46</td>\n",
       "      <td>Thursday</td>\n",
       "      <td>Friday</td>\n",
       "      <td>2</td>\n",
       "      <td>3</td>\n",
       "    </tr>\n",
       "    <tr>\n",
       "      <th>3</th>\n",
       "      <td>36490</td>\n",
       "      <td>2019-02-28 17:54:26.010</td>\n",
       "      <td>2019-03-01 04:02:36.842</td>\n",
       "      <td>375</td>\n",
       "      <td>Grove St at Masonic Ave</td>\n",
       "      <td>37.774836</td>\n",
       "      <td>-122.446546</td>\n",
       "      <td>70</td>\n",
       "      <td>Central Ave at Fell St</td>\n",
       "      <td>37.773311</td>\n",
       "      <td>...</td>\n",
       "      <td>1989</td>\n",
       "      <td>Other</td>\n",
       "      <td>No</td>\n",
       "      <td>10:08:10</td>\n",
       "      <td>608.166667</td>\n",
       "      <td>29</td>\n",
       "      <td>Thursday</td>\n",
       "      <td>Friday</td>\n",
       "      <td>2</td>\n",
       "      <td>3</td>\n",
       "    </tr>\n",
       "    <tr>\n",
       "      <th>4</th>\n",
       "      <td>1585</td>\n",
       "      <td>2019-02-28 23:54:18.549</td>\n",
       "      <td>2019-03-01 00:20:44.074</td>\n",
       "      <td>7</td>\n",
       "      <td>Frank H Ogawa Plaza</td>\n",
       "      <td>37.804562</td>\n",
       "      <td>-122.271738</td>\n",
       "      <td>222</td>\n",
       "      <td>10th Ave at E 15th St</td>\n",
       "      <td>37.792714</td>\n",
       "      <td>...</td>\n",
       "      <td>1974</td>\n",
       "      <td>Male</td>\n",
       "      <td>Yes</td>\n",
       "      <td>00:26:25</td>\n",
       "      <td>26.416667</td>\n",
       "      <td>44</td>\n",
       "      <td>Thursday</td>\n",
       "      <td>Friday</td>\n",
       "      <td>2</td>\n",
       "      <td>3</td>\n",
       "    </tr>\n",
       "    <tr>\n",
       "      <th>5</th>\n",
       "      <td>1793</td>\n",
       "      <td>2019-02-28 23:49:58.632</td>\n",
       "      <td>2019-03-01 00:19:51.760</td>\n",
       "      <td>93</td>\n",
       "      <td>4th St at Mission Bay Blvd S</td>\n",
       "      <td>37.770407</td>\n",
       "      <td>-122.391198</td>\n",
       "      <td>323</td>\n",
       "      <td>Broadway at Kearny</td>\n",
       "      <td>37.798014</td>\n",
       "      <td>...</td>\n",
       "      <td>1959</td>\n",
       "      <td>Male</td>\n",
       "      <td>No</td>\n",
       "      <td>00:29:53</td>\n",
       "      <td>29.883333</td>\n",
       "      <td>59</td>\n",
       "      <td>Thursday</td>\n",
       "      <td>Friday</td>\n",
       "      <td>2</td>\n",
       "      <td>3</td>\n",
       "    </tr>\n",
       "  </tbody>\n",
       "</table>\n",
       "<p>5 rows × 23 columns</p>\n",
       "</div>"
      ],
      "text/plain": [
       "   duration_sec              start_time                end_time  \\\n",
       "0         52185 2019-02-28 17:32:10.145 2019-03-01 08:01:55.975   \n",
       "2         61854 2019-02-28 12:13:13.218 2019-03-01 05:24:08.146   \n",
       "3         36490 2019-02-28 17:54:26.010 2019-03-01 04:02:36.842   \n",
       "4          1585 2019-02-28 23:54:18.549 2019-03-01 00:20:44.074   \n",
       "5          1793 2019-02-28 23:49:58.632 2019-03-01 00:19:51.760   \n",
       "\n",
       "   start_station_id                                start_station_name  \\\n",
       "0                21  Montgomery St BART Station (Market St at 2nd St)   \n",
       "2                86                           Market St at Dolores St   \n",
       "3               375                           Grove St at Masonic Ave   \n",
       "4                 7                               Frank H Ogawa Plaza   \n",
       "5                93                      4th St at Mission Bay Blvd S   \n",
       "\n",
       "   start_station_latitude  start_station_longitude  end_station_id  \\\n",
       "0               37.789625              -122.400811              13   \n",
       "2               37.769305              -122.426826               3   \n",
       "3               37.774836              -122.446546              70   \n",
       "4               37.804562              -122.271738             222   \n",
       "5               37.770407              -122.391198             323   \n",
       "\n",
       "                               end_station_name  end_station_latitude  ...  \\\n",
       "0                Commercial St at Montgomery St             37.794231  ...   \n",
       "2  Powell St BART Station (Market St at 4th St)             37.786375  ...   \n",
       "3                        Central Ave at Fell St             37.773311  ...   \n",
       "4                         10th Ave at E 15th St             37.792714  ...   \n",
       "5                            Broadway at Kearny             37.798014  ...   \n",
       "\n",
       "   member_birth_year  member_gender bike_share_for_all_trip  duration_hms  \\\n",
       "0               1984           Male                      No      14:29:45   \n",
       "2               1972           Male                      No      17:10:54   \n",
       "3               1989          Other                      No      10:08:10   \n",
       "4               1974           Male                     Yes      00:26:25   \n",
       "5               1959           Male                      No      00:29:53   \n",
       "\n",
       "  duration_minutes member_age start_day_of_week  end_day_of_week  start_month  \\\n",
       "0       869.750000         34          Thursday           Friday            2   \n",
       "2      1030.900000         46          Thursday           Friday            2   \n",
       "3       608.166667         29          Thursday           Friday            2   \n",
       "4        26.416667         44          Thursday           Friday            2   \n",
       "5        29.883333         59          Thursday           Friday            2   \n",
       "\n",
       "  end_month  \n",
       "0         3  \n",
       "2         3  \n",
       "3         3  \n",
       "4         3  \n",
       "5         3  \n",
       "\n",
       "[5 rows x 23 columns]"
      ]
     },
     "execution_count": 43,
     "metadata": {},
     "output_type": "execute_result"
    }
   ],
   "source": [
    "bike_data_clean.head()"
   ]
  },
  {
   "cell_type": "code",
   "execution_count": 44,
   "metadata": {},
   "outputs": [
    {
     "data": {
      "text/plain": [
       "array([3, 2], dtype=int64)"
      ]
     },
     "execution_count": 44,
     "metadata": {},
     "output_type": "execute_result"
    }
   ],
   "source": [
    "bike_data_clean.end_month.unique()"
   ]
  },
  {
   "cell_type": "markdown",
   "metadata": {},
   "source": [
    "**This data covers only one month, February. Not possible to compare usage over several or different months.**"
   ]
  },
  {
   "cell_type": "code",
   "execution_count": 45,
   "metadata": {},
   "outputs": [],
   "source": [
    "#Just to be safe I created a new df for the explanatory analysis\n",
    "expl_bike_data = bike_data_clean"
   ]
  },
  {
   "cell_type": "code",
   "execution_count": 46,
   "metadata": {},
   "outputs": [
    {
     "data": {
      "text/html": [
       "<div>\n",
       "<style scoped>\n",
       "    .dataframe tbody tr th:only-of-type {\n",
       "        vertical-align: middle;\n",
       "    }\n",
       "\n",
       "    .dataframe tbody tr th {\n",
       "        vertical-align: top;\n",
       "    }\n",
       "\n",
       "    .dataframe thead th {\n",
       "        text-align: right;\n",
       "    }\n",
       "</style>\n",
       "<table border=\"1\" class=\"dataframe\">\n",
       "  <thead>\n",
       "    <tr style=\"text-align: right;\">\n",
       "      <th></th>\n",
       "      <th>duration_sec</th>\n",
       "      <th>start_time</th>\n",
       "      <th>end_time</th>\n",
       "      <th>start_station_id</th>\n",
       "      <th>start_station_name</th>\n",
       "      <th>start_station_latitude</th>\n",
       "      <th>start_station_longitude</th>\n",
       "      <th>end_station_id</th>\n",
       "      <th>end_station_name</th>\n",
       "      <th>end_station_latitude</th>\n",
       "      <th>...</th>\n",
       "      <th>member_birth_year</th>\n",
       "      <th>member_gender</th>\n",
       "      <th>bike_share_for_all_trip</th>\n",
       "      <th>duration_hms</th>\n",
       "      <th>duration_minutes</th>\n",
       "      <th>member_age</th>\n",
       "      <th>start_day_of_week</th>\n",
       "      <th>end_day_of_week</th>\n",
       "      <th>start_month</th>\n",
       "      <th>end_month</th>\n",
       "    </tr>\n",
       "  </thead>\n",
       "  <tbody>\n",
       "    <tr>\n",
       "      <th>0</th>\n",
       "      <td>52185</td>\n",
       "      <td>2019-02-28 17:32:10.145</td>\n",
       "      <td>2019-03-01 08:01:55.975</td>\n",
       "      <td>21</td>\n",
       "      <td>Montgomery St BART Station (Market St at 2nd St)</td>\n",
       "      <td>37.789625</td>\n",
       "      <td>-122.400811</td>\n",
       "      <td>13</td>\n",
       "      <td>Commercial St at Montgomery St</td>\n",
       "      <td>37.794231</td>\n",
       "      <td>...</td>\n",
       "      <td>1984</td>\n",
       "      <td>Male</td>\n",
       "      <td>No</td>\n",
       "      <td>14:29:45</td>\n",
       "      <td>869.750000</td>\n",
       "      <td>34</td>\n",
       "      <td>Thursday</td>\n",
       "      <td>Friday</td>\n",
       "      <td>2</td>\n",
       "      <td>3</td>\n",
       "    </tr>\n",
       "    <tr>\n",
       "      <th>2</th>\n",
       "      <td>61854</td>\n",
       "      <td>2019-02-28 12:13:13.218</td>\n",
       "      <td>2019-03-01 05:24:08.146</td>\n",
       "      <td>86</td>\n",
       "      <td>Market St at Dolores St</td>\n",
       "      <td>37.769305</td>\n",
       "      <td>-122.426826</td>\n",
       "      <td>3</td>\n",
       "      <td>Powell St BART Station (Market St at 4th St)</td>\n",
       "      <td>37.786375</td>\n",
       "      <td>...</td>\n",
       "      <td>1972</td>\n",
       "      <td>Male</td>\n",
       "      <td>No</td>\n",
       "      <td>17:10:54</td>\n",
       "      <td>1030.900000</td>\n",
       "      <td>46</td>\n",
       "      <td>Thursday</td>\n",
       "      <td>Friday</td>\n",
       "      <td>2</td>\n",
       "      <td>3</td>\n",
       "    </tr>\n",
       "    <tr>\n",
       "      <th>3</th>\n",
       "      <td>36490</td>\n",
       "      <td>2019-02-28 17:54:26.010</td>\n",
       "      <td>2019-03-01 04:02:36.842</td>\n",
       "      <td>375</td>\n",
       "      <td>Grove St at Masonic Ave</td>\n",
       "      <td>37.774836</td>\n",
       "      <td>-122.446546</td>\n",
       "      <td>70</td>\n",
       "      <td>Central Ave at Fell St</td>\n",
       "      <td>37.773311</td>\n",
       "      <td>...</td>\n",
       "      <td>1989</td>\n",
       "      <td>Other</td>\n",
       "      <td>No</td>\n",
       "      <td>10:08:10</td>\n",
       "      <td>608.166667</td>\n",
       "      <td>29</td>\n",
       "      <td>Thursday</td>\n",
       "      <td>Friday</td>\n",
       "      <td>2</td>\n",
       "      <td>3</td>\n",
       "    </tr>\n",
       "    <tr>\n",
       "      <th>4</th>\n",
       "      <td>1585</td>\n",
       "      <td>2019-02-28 23:54:18.549</td>\n",
       "      <td>2019-03-01 00:20:44.074</td>\n",
       "      <td>7</td>\n",
       "      <td>Frank H Ogawa Plaza</td>\n",
       "      <td>37.804562</td>\n",
       "      <td>-122.271738</td>\n",
       "      <td>222</td>\n",
       "      <td>10th Ave at E 15th St</td>\n",
       "      <td>37.792714</td>\n",
       "      <td>...</td>\n",
       "      <td>1974</td>\n",
       "      <td>Male</td>\n",
       "      <td>Yes</td>\n",
       "      <td>00:26:25</td>\n",
       "      <td>26.416667</td>\n",
       "      <td>44</td>\n",
       "      <td>Thursday</td>\n",
       "      <td>Friday</td>\n",
       "      <td>2</td>\n",
       "      <td>3</td>\n",
       "    </tr>\n",
       "    <tr>\n",
       "      <th>5</th>\n",
       "      <td>1793</td>\n",
       "      <td>2019-02-28 23:49:58.632</td>\n",
       "      <td>2019-03-01 00:19:51.760</td>\n",
       "      <td>93</td>\n",
       "      <td>4th St at Mission Bay Blvd S</td>\n",
       "      <td>37.770407</td>\n",
       "      <td>-122.391198</td>\n",
       "      <td>323</td>\n",
       "      <td>Broadway at Kearny</td>\n",
       "      <td>37.798014</td>\n",
       "      <td>...</td>\n",
       "      <td>1959</td>\n",
       "      <td>Male</td>\n",
       "      <td>No</td>\n",
       "      <td>00:29:53</td>\n",
       "      <td>29.883333</td>\n",
       "      <td>59</td>\n",
       "      <td>Thursday</td>\n",
       "      <td>Friday</td>\n",
       "      <td>2</td>\n",
       "      <td>3</td>\n",
       "    </tr>\n",
       "  </tbody>\n",
       "</table>\n",
       "<p>5 rows × 23 columns</p>\n",
       "</div>"
      ],
      "text/plain": [
       "   duration_sec              start_time                end_time  \\\n",
       "0         52185 2019-02-28 17:32:10.145 2019-03-01 08:01:55.975   \n",
       "2         61854 2019-02-28 12:13:13.218 2019-03-01 05:24:08.146   \n",
       "3         36490 2019-02-28 17:54:26.010 2019-03-01 04:02:36.842   \n",
       "4          1585 2019-02-28 23:54:18.549 2019-03-01 00:20:44.074   \n",
       "5          1793 2019-02-28 23:49:58.632 2019-03-01 00:19:51.760   \n",
       "\n",
       "   start_station_id                                start_station_name  \\\n",
       "0                21  Montgomery St BART Station (Market St at 2nd St)   \n",
       "2                86                           Market St at Dolores St   \n",
       "3               375                           Grove St at Masonic Ave   \n",
       "4                 7                               Frank H Ogawa Plaza   \n",
       "5                93                      4th St at Mission Bay Blvd S   \n",
       "\n",
       "   start_station_latitude  start_station_longitude  end_station_id  \\\n",
       "0               37.789625              -122.400811              13   \n",
       "2               37.769305              -122.426826               3   \n",
       "3               37.774836              -122.446546              70   \n",
       "4               37.804562              -122.271738             222   \n",
       "5               37.770407              -122.391198             323   \n",
       "\n",
       "                               end_station_name  end_station_latitude  ...  \\\n",
       "0                Commercial St at Montgomery St             37.794231  ...   \n",
       "2  Powell St BART Station (Market St at 4th St)             37.786375  ...   \n",
       "3                        Central Ave at Fell St             37.773311  ...   \n",
       "4                         10th Ave at E 15th St             37.792714  ...   \n",
       "5                            Broadway at Kearny             37.798014  ...   \n",
       "\n",
       "   member_birth_year  member_gender bike_share_for_all_trip  duration_hms  \\\n",
       "0               1984           Male                      No      14:29:45   \n",
       "2               1972           Male                      No      17:10:54   \n",
       "3               1989          Other                      No      10:08:10   \n",
       "4               1974           Male                     Yes      00:26:25   \n",
       "5               1959           Male                      No      00:29:53   \n",
       "\n",
       "  duration_minutes member_age start_day_of_week  end_day_of_week  start_month  \\\n",
       "0       869.750000         34          Thursday           Friday            2   \n",
       "2      1030.900000         46          Thursday           Friday            2   \n",
       "3       608.166667         29          Thursday           Friday            2   \n",
       "4        26.416667         44          Thursday           Friday            2   \n",
       "5        29.883333         59          Thursday           Friday            2   \n",
       "\n",
       "  end_month  \n",
       "0         3  \n",
       "2         3  \n",
       "3         3  \n",
       "4         3  \n",
       "5         3  \n",
       "\n",
       "[5 rows x 23 columns]"
      ]
     },
     "execution_count": 46,
     "metadata": {},
     "output_type": "execute_result"
    }
   ],
   "source": [
    "expl_bike_data.head()"
   ]
  },
  {
   "cell_type": "markdown",
   "metadata": {},
   "source": [
    "* Drop some unnecessary coulmns like: `start_time, end_time, start_station_id, end_station_id`"
   ]
  },
  {
   "cell_type": "code",
   "execution_count": 47,
   "metadata": {},
   "outputs": [],
   "source": [
    "expl_bike_data.drop(columns =['duration_sec', 'start_station_id', 'end_station_id', 'start_time', 'end_time', 'member_birth_year', 'start_month', 'end_month'], inplace=True)"
   ]
  },
  {
   "cell_type": "code",
   "execution_count": 48,
   "metadata": {},
   "outputs": [],
   "source": [
    "#Calculate avg distance between start and end point using the start and end long/lat\n",
    "\n",
    "#source:https://gist.github.com/rochacbruno/2883505\n",
    "import math\n",
    "def distance(origin, destination):\n",
    "    lat1, lon1 = origin\n",
    "    lat2, lon2 = destination\n",
    "    radius = 6371 # km\n",
    "    dlat = math.radians(lat2-lat1)\n",
    "    dlon = math.radians(lon2-lon1)\n",
    "    a = math.sin(dlat/2) * math.sin(dlat/2) + math.cos(math.radians(lat1)) \\\n",
    "* math.cos(math.radians(lat2)) * math.sin(dlon/2) * math.sin(dlon/2)\n",
    "    c = 2 * math.atan2(math.sqrt(a), math.sqrt(1-a))\n",
    "    d = radius * c\n",
    "    return d"
   ]
  },
  {
   "cell_type": "code",
   "execution_count": 49,
   "metadata": {},
   "outputs": [],
   "source": [
    "#source:https://github.com/eaquin1/Ford-GoBike-Data-Visualization/blob/master/exploration_template.ipynb\n",
    "#calculate distance in Km\n",
    "expl_bike_data['distance'] = expl_bike_data.apply(lambda i: distance([i['start_station_longitude'], i['start_station_latitude']],\n",
    "                            [i['end_station_longitude'],i['end_station_latitude']]), axis=1)"
   ]
  },
  {
   "cell_type": "code",
   "execution_count": 50,
   "metadata": {},
   "outputs": [
    {
     "data": {
      "text/html": [
       "<div>\n",
       "<style scoped>\n",
       "    .dataframe tbody tr th:only-of-type {\n",
       "        vertical-align: middle;\n",
       "    }\n",
       "\n",
       "    .dataframe tbody tr th {\n",
       "        vertical-align: top;\n",
       "    }\n",
       "\n",
       "    .dataframe thead th {\n",
       "        text-align: right;\n",
       "    }\n",
       "</style>\n",
       "<table border=\"1\" class=\"dataframe\">\n",
       "  <thead>\n",
       "    <tr style=\"text-align: right;\">\n",
       "      <th></th>\n",
       "      <th>start_station_name</th>\n",
       "      <th>start_station_latitude</th>\n",
       "      <th>start_station_longitude</th>\n",
       "      <th>end_station_name</th>\n",
       "      <th>end_station_latitude</th>\n",
       "      <th>end_station_longitude</th>\n",
       "      <th>bike_id</th>\n",
       "      <th>user_type</th>\n",
       "      <th>member_gender</th>\n",
       "      <th>bike_share_for_all_trip</th>\n",
       "      <th>duration_hms</th>\n",
       "      <th>duration_minutes</th>\n",
       "      <th>member_age</th>\n",
       "      <th>start_day_of_week</th>\n",
       "      <th>end_day_of_week</th>\n",
       "      <th>distance</th>\n",
       "    </tr>\n",
       "  </thead>\n",
       "  <tbody>\n",
       "    <tr>\n",
       "      <th>0</th>\n",
       "      <td>Montgomery St BART Station (Market St at 2nd St)</td>\n",
       "      <td>37.789625</td>\n",
       "      <td>-122.400811</td>\n",
       "      <td>Commercial St at Montgomery St</td>\n",
       "      <td>37.794231</td>\n",
       "      <td>-122.402923</td>\n",
       "      <td>4902</td>\n",
       "      <td>Customer</td>\n",
       "      <td>Male</td>\n",
       "      <td>No</td>\n",
       "      <td>14:29:45</td>\n",
       "      <td>869.750000</td>\n",
       "      <td>34</td>\n",
       "      <td>Thursday</td>\n",
       "      <td>Friday</td>\n",
       "      <td>0.361191</td>\n",
       "    </tr>\n",
       "    <tr>\n",
       "      <th>2</th>\n",
       "      <td>Market St at Dolores St</td>\n",
       "      <td>37.769305</td>\n",
       "      <td>-122.426826</td>\n",
       "      <td>Powell St BART Station (Market St at 4th St)</td>\n",
       "      <td>37.786375</td>\n",
       "      <td>-122.404904</td>\n",
       "      <td>5905</td>\n",
       "      <td>Customer</td>\n",
       "      <td>Male</td>\n",
       "      <td>No</td>\n",
       "      <td>17:10:54</td>\n",
       "      <td>1030.900000</td>\n",
       "      <td>46</td>\n",
       "      <td>Thursday</td>\n",
       "      <td>Friday</td>\n",
       "      <td>2.641372</td>\n",
       "    </tr>\n",
       "    <tr>\n",
       "      <th>3</th>\n",
       "      <td>Grove St at Masonic Ave</td>\n",
       "      <td>37.774836</td>\n",
       "      <td>-122.446546</td>\n",
       "      <td>Central Ave at Fell St</td>\n",
       "      <td>37.773311</td>\n",
       "      <td>-122.444293</td>\n",
       "      <td>6638</td>\n",
       "      <td>Subscriber</td>\n",
       "      <td>Other</td>\n",
       "      <td>No</td>\n",
       "      <td>10:08:10</td>\n",
       "      <td>608.166667</td>\n",
       "      <td>29</td>\n",
       "      <td>Thursday</td>\n",
       "      <td>Friday</td>\n",
       "      <td>0.266543</td>\n",
       "    </tr>\n",
       "    <tr>\n",
       "      <th>4</th>\n",
       "      <td>Frank H Ogawa Plaza</td>\n",
       "      <td>37.804562</td>\n",
       "      <td>-122.271738</td>\n",
       "      <td>10th Ave at E 15th St</td>\n",
       "      <td>37.792714</td>\n",
       "      <td>-122.248780</td>\n",
       "      <td>4898</td>\n",
       "      <td>Subscriber</td>\n",
       "      <td>Male</td>\n",
       "      <td>Yes</td>\n",
       "      <td>00:26:25</td>\n",
       "      <td>26.416667</td>\n",
       "      <td>44</td>\n",
       "      <td>Thursday</td>\n",
       "      <td>Friday</td>\n",
       "      <td>2.647945</td>\n",
       "    </tr>\n",
       "    <tr>\n",
       "      <th>5</th>\n",
       "      <td>4th St at Mission Bay Blvd S</td>\n",
       "      <td>37.770407</td>\n",
       "      <td>-122.391198</td>\n",
       "      <td>Broadway at Kearny</td>\n",
       "      <td>37.798014</td>\n",
       "      <td>-122.405950</td>\n",
       "      <td>5200</td>\n",
       "      <td>Subscriber</td>\n",
       "      <td>Male</td>\n",
       "      <td>No</td>\n",
       "      <td>00:29:53</td>\n",
       "      <td>29.883333</td>\n",
       "      <td>59</td>\n",
       "      <td>Thursday</td>\n",
       "      <td>Friday</td>\n",
       "      <td>2.322918</td>\n",
       "    </tr>\n",
       "  </tbody>\n",
       "</table>\n",
       "</div>"
      ],
      "text/plain": [
       "                                 start_station_name  start_station_latitude  \\\n",
       "0  Montgomery St BART Station (Market St at 2nd St)               37.789625   \n",
       "2                           Market St at Dolores St               37.769305   \n",
       "3                           Grove St at Masonic Ave               37.774836   \n",
       "4                               Frank H Ogawa Plaza               37.804562   \n",
       "5                      4th St at Mission Bay Blvd S               37.770407   \n",
       "\n",
       "   start_station_longitude                              end_station_name  \\\n",
       "0              -122.400811                Commercial St at Montgomery St   \n",
       "2              -122.426826  Powell St BART Station (Market St at 4th St)   \n",
       "3              -122.446546                        Central Ave at Fell St   \n",
       "4              -122.271738                         10th Ave at E 15th St   \n",
       "5              -122.391198                            Broadway at Kearny   \n",
       "\n",
       "   end_station_latitude  end_station_longitude  bike_id   user_type  \\\n",
       "0             37.794231            -122.402923     4902    Customer   \n",
       "2             37.786375            -122.404904     5905    Customer   \n",
       "3             37.773311            -122.444293     6638  Subscriber   \n",
       "4             37.792714            -122.248780     4898  Subscriber   \n",
       "5             37.798014            -122.405950     5200  Subscriber   \n",
       "\n",
       "  member_gender bike_share_for_all_trip duration_hms  duration_minutes  \\\n",
       "0          Male                      No     14:29:45        869.750000   \n",
       "2          Male                      No     17:10:54       1030.900000   \n",
       "3         Other                      No     10:08:10        608.166667   \n",
       "4          Male                     Yes     00:26:25         26.416667   \n",
       "5          Male                      No     00:29:53         29.883333   \n",
       "\n",
       "   member_age start_day_of_week end_day_of_week  distance  \n",
       "0          34          Thursday          Friday  0.361191  \n",
       "2          46          Thursday          Friday  2.641372  \n",
       "3          29          Thursday          Friday  0.266543  \n",
       "4          44          Thursday          Friday  2.647945  \n",
       "5          59          Thursday          Friday  2.322918  "
      ]
     },
     "execution_count": 50,
     "metadata": {},
     "output_type": "execute_result"
    }
   ],
   "source": [
    "expl_bike_data.head()"
   ]
  },
  {
   "cell_type": "code",
   "execution_count": 51,
   "metadata": {},
   "outputs": [],
   "source": [
    "#drop the lat/long coulmn\n",
    "expl_bike_data.drop(columns =['start_station_latitude', 'start_station_longitude', 'end_station_latitude', 'end_station_longitude'], inplace=True)"
   ]
  },
  {
   "cell_type": "code",
   "execution_count": 52,
   "metadata": {},
   "outputs": [
    {
     "name": "stdout",
     "output_type": "stream",
     "text": [
      "<class 'pandas.core.frame.DataFrame'>\n",
      "Int64Index: 174952 entries, 0 to 183411\n",
      "Data columns (total 12 columns):\n",
      " #   Column                   Non-Null Count   Dtype  \n",
      "---  ------                   --------------   -----  \n",
      " 0   start_station_name       174952 non-null  object \n",
      " 1   end_station_name         174952 non-null  object \n",
      " 2   bike_id                  174952 non-null  int64  \n",
      " 3   user_type                174952 non-null  object \n",
      " 4   member_gender            174952 non-null  object \n",
      " 5   bike_share_for_all_trip  174952 non-null  object \n",
      " 6   duration_hms             174952 non-null  object \n",
      " 7   duration_minutes         174952 non-null  float64\n",
      " 8   member_age               174952 non-null  int64  \n",
      " 9   start_day_of_week        174952 non-null  object \n",
      " 10  end_day_of_week          174952 non-null  object \n",
      " 11  distance                 174952 non-null  float64\n",
      "dtypes: float64(2), int64(2), object(8)\n",
      "memory usage: 22.4+ MB\n"
     ]
    }
   ],
   "source": [
    "expl_bike_data.info()"
   ]
  },
  {
   "cell_type": "code",
   "execution_count": 53,
   "metadata": {},
   "outputs": [
    {
     "data": {
      "text/plain": [
       "63.80019031381318"
      ]
     },
     "execution_count": 53,
     "metadata": {},
     "output_type": "execute_result"
    }
   ],
   "source": [
    "expl_bike_data.distance.max()"
   ]
  },
  {
   "cell_type": "code",
   "execution_count": 54,
   "metadata": {},
   "outputs": [
    {
     "data": {
      "text/html": [
       "<div>\n",
       "<style scoped>\n",
       "    .dataframe tbody tr th:only-of-type {\n",
       "        vertical-align: middle;\n",
       "    }\n",
       "\n",
       "    .dataframe tbody tr th {\n",
       "        vertical-align: top;\n",
       "    }\n",
       "\n",
       "    .dataframe thead th {\n",
       "        text-align: right;\n",
       "    }\n",
       "</style>\n",
       "<table border=\"1\" class=\"dataframe\">\n",
       "  <thead>\n",
       "    <tr style=\"text-align: right;\">\n",
       "      <th></th>\n",
       "      <th>start_station_name</th>\n",
       "      <th>end_station_name</th>\n",
       "      <th>bike_id</th>\n",
       "      <th>user_type</th>\n",
       "      <th>member_gender</th>\n",
       "      <th>bike_share_for_all_trip</th>\n",
       "      <th>duration_hms</th>\n",
       "      <th>duration_minutes</th>\n",
       "      <th>member_age</th>\n",
       "      <th>start_day_of_week</th>\n",
       "      <th>end_day_of_week</th>\n",
       "      <th>distance</th>\n",
       "    </tr>\n",
       "  </thead>\n",
       "  <tbody>\n",
       "    <tr>\n",
       "      <th>112038</th>\n",
       "      <td>Montgomery St BART Station (Market St at 2nd St)</td>\n",
       "      <td>Palm St at Willow St</td>\n",
       "      <td>4780</td>\n",
       "      <td>Subscriber</td>\n",
       "      <td>Female</td>\n",
       "      <td>No</td>\n",
       "      <td>01:55:45</td>\n",
       "      <td>115.75</td>\n",
       "      <td>33</td>\n",
       "      <td>Tuesday</td>\n",
       "      <td>Tuesday</td>\n",
       "      <td>63.80019</td>\n",
       "    </tr>\n",
       "  </tbody>\n",
       "</table>\n",
       "</div>"
      ],
      "text/plain": [
       "                                      start_station_name  \\\n",
       "112038  Montgomery St BART Station (Market St at 2nd St)   \n",
       "\n",
       "            end_station_name  bike_id   user_type member_gender  \\\n",
       "112038  Palm St at Willow St     4780  Subscriber        Female   \n",
       "\n",
       "       bike_share_for_all_trip duration_hms  duration_minutes  member_age  \\\n",
       "112038                      No     01:55:45            115.75          33   \n",
       "\n",
       "       start_day_of_week end_day_of_week  distance  \n",
       "112038           Tuesday         Tuesday  63.80019  "
      ]
     },
     "execution_count": 54,
     "metadata": {},
     "output_type": "execute_result"
    }
   ],
   "source": [
    "expl_bike_data.loc[expl_bike_data['distance'] == 63.80019031381318]"
   ]
  },
  {
   "cell_type": "code",
   "execution_count": 55,
   "metadata": {},
   "outputs": [],
   "source": [
    "#expl_bike_data.head()"
   ]
  },
  {
   "cell_type": "code",
   "execution_count": 56,
   "metadata": {},
   "outputs": [],
   "source": [
    "#df['start_time'] = pd.to_datetime(df['start_time'])\n",
    "#bike_data_clean2['start_month_num'] = bike_data_clean2['start_time'].apply(lambda time: time.month)\n",
    "#bike_data_clean2['start_month_char'] = bike_data_clean2['start_month_num'].apply(lambda x: calendar.month_abbr[x])"
   ]
  },
  {
   "cell_type": "markdown",
   "metadata": {},
   "source": [
    "### possible questions\n",
    "- average number of days a bike is rented(calculate the differene from start and end time)\n",
    "- which gender has the highest number of rent\n",
    "- age range\n",
    "- longest duration of hire\n",
    "- average distance travelled using start and end lat/long)\n",
    "- day of the week wt more rented bike\n",
    "- time of the day with highest activities"
   ]
  },
  {
   "cell_type": "markdown",
   "metadata": {},
   "source": [
    "### EXPLANATORY ANALYSIS"
   ]
  },
  {
   "cell_type": "markdown",
   "metadata": {},
   "source": [
    "The data covered only one month, \"February\" for the start time and two months for the end time \"February and March\". "
   ]
  },
  {
   "cell_type": "code",
   "execution_count": 57,
   "metadata": {},
   "outputs": [
    {
     "data": {
      "text/plain": [
       "Market St at 10th St                                         3649\n",
       "San Francisco Caltrain Station 2  (Townsend St at 4th St)    3408\n",
       "Berry St at 4th St                                           2952\n",
       "Montgomery St BART Station (Market St at 2nd St)             2711\n",
       "Powell St BART Station (Market St at 4th St)                 2620\n",
       "                                                             ... \n",
       "Willow St at Vine St                                            9\n",
       "Parker Ave at McAllister St                                     7\n",
       "21st Ave at International Blvd                                  4\n",
       "Palm St at Willow St                                            3\n",
       "16th St Depot                                                   2\n",
       "Name: start_station_name, Length: 329, dtype: int64"
      ]
     },
     "execution_count": 57,
     "metadata": {},
     "output_type": "execute_result"
    }
   ],
   "source": [
    "expl_bike_data.start_station_name.value_counts(ascending=False)"
   ]
  },
  {
   "cell_type": "code",
   "execution_count": 58,
   "metadata": {},
   "outputs": [],
   "source": [
    "#select top10 with highest counts\n",
    "top10_start_stations = expl_bike_data.start_station_name.value_counts().head(10)"
   ]
  },
  {
   "cell_type": "code",
   "execution_count": 59,
   "metadata": {},
   "outputs": [
    {
     "data": {
      "image/png": "[encoded data removed]",
      "text/plain": [
       "<Figure size 432x288 with 1 Axes>"
      ]
     },
     "metadata": {
      "needs_background": "light"
     },
     "output_type": "display_data"
    }
   ],
   "source": [
    "#plot to see the top 10 take off stations\n",
    "base_color = sns.color_palette()[0]\n",
    "top10_start_stations = expl_bike_data.start_station_name.value_counts()[0:10]\n",
    "#sns.countplot(data=top10_start_stations, y='start_station_name', color=base_color)\n",
    "plt.xlabel('Count')\n",
    "plt.ylabel('Start Station Name')\n",
    "plt.title('Top 10 Take-off Stations')\n",
    "top10_start_stations.plot(kind='barh', color=base_color);"
   ]
  },
  {
   "cell_type": "code",
   "execution_count": 60,
   "metadata": {},
   "outputs": [
    {
     "data": {
      "text/plain": [
       "end_station_name\n",
       "San Francisco Caltrain Station 2  (Townsend St at 4th St)    4624\n",
       "Market St at 10th St                                         3709\n",
       "Montgomery St BART Station (Market St at 2nd St)             3461\n",
       "San Francisco Ferry Building (Harry Bridges Plaza)           3151\n",
       "San Francisco Caltrain (Townsend St at 4th St)               2870\n",
       "                                                             ... \n",
       "Parker Ave at McAllister St                                     9\n",
       "Palm St at Willow St                                            7\n",
       "16th St Depot                                                   6\n",
       "21st Ave at International Blvd                                  5\n",
       "Willow St at Vine St                                            5\n",
       "Length: 329, dtype: int64"
      ]
     },
     "execution_count": 60,
     "metadata": {},
     "output_type": "execute_result"
    }
   ],
   "source": [
    "expl_bike_data.groupby(['end_station_name']).size().sort_values(ascending=False)"
   ]
  },
  {
   "cell_type": "code",
   "execution_count": 61,
   "metadata": {},
   "outputs": [
    {
     "data": {
      "image/png": "[encoded data removed]",
      "text/plain": [
       "<Figure size 432x288 with 1 Axes>"
      ]
     },
     "metadata": {
      "needs_background": "light"
     },
     "output_type": "display_data"
    }
   ],
   "source": [
    "#plot to see the top 10 take off stations\n",
    "\n",
    "base_color = sns.color_palette()[0]\n",
    "top10_start_stations = expl_bike_data.end_station_name.value_counts()[0:10]\n",
    "#sns.countplot(data=top10_start_stations, y='start_station_name', color=base_color)\n",
    "plt.xlabel('Count')\n",
    "plt.ylabel('End Station Name')\n",
    "plt.title('Top 10 End Stations')\n",
    "top10_start_stations.plot(kind='barh', color=base_color);"
   ]
  },
  {
   "cell_type": "markdown",
   "metadata": {},
   "source": [
    "### SUMMARY\n",
    "\n",
    "I used google maps to check the location of this stations and have the following findings:\n",
    "\n",
    "* The Caltran bike station is very close the San Francisco train station. It makes sense that it has a highest number of stop location for the users.\n",
    "* The Market St is within a commercial zone and lots of activities happening around this area. It is expected to have high number of users as well.\n",
    "\n"
   ]
  },
  {
   "cell_type": "markdown",
   "metadata": {},
   "source": [
    "Analyse the Age Distribution for riders"
   ]
  },
  {
   "cell_type": "code",
   "execution_count": 62,
   "metadata": {},
   "outputs": [
    {
     "data": {
      "text/plain": [
       "count    174952.000000\n",
       "mean         33.196865\n",
       "std          10.118731\n",
       "min          17.000000\n",
       "25%          26.000000\n",
       "50%          31.000000\n",
       "75%          38.000000\n",
       "max         140.000000\n",
       "Name: member_age, dtype: float64"
      ]
     },
     "execution_count": 62,
     "metadata": {},
     "output_type": "execute_result"
    }
   ],
   "source": [
    "bike_data_clean.member_age.describe()"
   ]
  },
  {
   "cell_type": "code",
   "execution_count": 63,
   "metadata": {},
   "outputs": [
    {
     "data": {
      "text/plain": [
       "140"
      ]
     },
     "execution_count": 63,
     "metadata": {},
     "output_type": "execute_result"
    }
   ],
   "source": [
    "expl_bike_data['member_age'].max()"
   ]
  },
  {
   "cell_type": "code",
   "execution_count": 64,
   "metadata": {},
   "outputs": [
    {
     "data": {
      "text/plain": [
       "17"
      ]
     },
     "execution_count": 64,
     "metadata": {},
     "output_type": "execute_result"
    }
   ],
   "source": [
    "expl_bike_data['member_age'].min()"
   ]
  },
  {
   "cell_type": "code",
   "execution_count": 65,
   "metadata": {},
   "outputs": [
    {
     "data": {
      "image/png": "[encoded data removed]",
      "text/plain": [
       "<Figure size 432x288 with 1 Axes>"
      ]
     },
     "metadata": {
      "needs_background": "light"
     },
     "output_type": "display_data"
    }
   ],
   "source": [
    "#plt.figure(figsize=(8,6))\n",
    "sns.boxplot(y='member_age', data=expl_bike_data)\n",
    "plt.title(\"The Age Distribution for Riders\")\n",
    "plt.xlabel(\"Age\");"
   ]
  },
  {
   "cell_type": "markdown",
   "metadata": {},
   "source": [
    "Age greater than 80 does not seem ideal, for this type of data. They appear as outliers on the boxplot above. Hence I will remove ages greater than 80, and replot comparing with the gender to see what the distribution will look like. "
   ]
  },
  {
   "cell_type": "code",
   "execution_count": 66,
   "metadata": {},
   "outputs": [],
   "source": [
    "#source:https://www.geeksforgeeks.org/selecting-rows-in-pandas-dataframe-based-on-conditions/\n",
    "#select rows with age > 80\n",
    "age_grt_80 = expl_bike_data.loc[expl_bike_data['member_age'] > 80]\n",
    "\n",
    "#drop the rows\n",
    "expl_bike_data = expl_bike_data.drop(age_grt_80.index, axis=0)"
   ]
  },
  {
   "cell_type": "code",
   "execution_count": 67,
   "metadata": {},
   "outputs": [
    {
     "data": {
      "text/plain": [
       "(174763, 12)"
      ]
     },
     "execution_count": 67,
     "metadata": {},
     "output_type": "execute_result"
    }
   ],
   "source": [
    "expl_bike_data.shape"
   ]
  },
  {
   "cell_type": "code",
   "execution_count": 68,
   "metadata": {},
   "outputs": [
    {
     "data": {
      "text/plain": [
       "array([34, 46, 29, 44, 59, 35, 30, 26, 22, 25, 28, 37, 43, 40, 27, 21, 32,\n",
       "       18, 36, 23, 38, 45, 33, 47, 39, 51, 20, 24, 41, 19, 31, 49, 55, 42,\n",
       "       54, 53, 57, 50, 52, 56, 64, 60, 58, 48, 62, 61, 73, 66, 70, 67, 77,\n",
       "       68, 69, 65, 63, 72, 71, 75, 76, 17, 74, 79, 80], dtype=int64)"
      ]
     },
     "execution_count": 68,
     "metadata": {},
     "output_type": "execute_result"
    }
   ],
   "source": [
    "expl_bike_data.member_age.unique()"
   ]
  },
  {
   "cell_type": "code",
   "execution_count": 69,
   "metadata": {},
   "outputs": [
    {
     "data": {
      "image/png": "[encoded data removed]",
      "text/plain": [
       "<Figure size 576x432 with 1 Axes>"
      ]
     },
     "metadata": {
      "needs_background": "light"
     },
     "output_type": "display_data"
    }
   ],
   "source": [
    "plt.figure(figsize=(8,6))\n",
    "sns.boxplot(x='member_age', data=expl_bike_data)\n",
    "plt.title(\"The Age Distribution for Riders\")\n",
    "plt.xlabel(\"Age\");"
   ]
  },
  {
   "cell_type": "markdown",
   "metadata": {},
   "source": [
    "**Used Facetting to compare relationship between riders age and the gender.**"
   ]
  },
  {
   "cell_type": "code",
   "execution_count": 70,
   "metadata": {},
   "outputs": [
    {
     "data": {
      "image/png": "[encoded data removed]",
      "text/plain": [
       "<Figure size 1440x360 with 3 Axes>"
      ]
     },
     "metadata": {
      "needs_background": "light"
     },
     "output_type": "display_data"
    }
   ],
   "source": [
    "plt.figure(figsize = [20, 5])\n",
    "base_color = sns.color_palette()[0]\n",
    "\n",
    "#left plot: violinplot\n",
    "plt.subplot(1, 3, 1)\n",
    "sns.violinplot(data=expl_bike_data, x='member_gender', y='member_age', inner=None, color=base_color);\n",
    "plt.title(\"Age and Gender Distribution for Riders\", fontsize=14)\n",
    "plt.xlabel(\"Gender\", size=12)\n",
    "plt.ylabel(\"Age\", size=12);\n",
    "\n",
    "#centerplot: boxplot\n",
    "plt.subplot(1, 3, 2)\n",
    "sns.boxplot(y='member_age', x='member_gender', data=expl_bike_data, color=base_color);\n",
    "plt.title(\"Age and Gender Distribution for Riders\", fontsize=14)\n",
    "plt.xlabel(\"Gender\", size=12)\n",
    "plt.ylabel(\"Age\", size=12);\n",
    "\n",
    "#rightplot: KDEplot\n",
    "plt.subplot(1, 3, 3)\n",
    "sns.kdeplot(data=expl_bike_data, x='member_age', hue='member_gender', color=base_color);\n",
    "plt.title(\"Age and Gender Distribution for Riders\", fontsize=14)\n",
    "plt.xlabel(\"Gender\", size=12)\n",
    "plt.ylabel(\"Age\", size=12);"
   ]
  },
  {
   "cell_type": "markdown",
   "metadata": {},
   "source": [
    "It is obvious that within the various age range, the number of males are more than the female. \n",
    "\n",
    "The box plot looks better as it clearly shows the median age for riders. The data seems dispersed due to the wideness of the box. It looks symmetrical but a little skewed to the right as moset of the data falls within the age range of `<40years`.\n",
    "\n",
    "The probability of the mean age being a male or female or other is almost at the same range. But the weight for the age being a female seems higher. "
   ]
  },
  {
   "cell_type": "markdown",
   "metadata": {},
   "source": [
    "**Average distance travelled on each day of the week**"
   ]
  },
  {
   "cell_type": "code",
   "execution_count": 73,
   "metadata": {
    "scrolled": false
   },
   "outputs": [
    {
     "data": {
      "image/png": "[encoded data removed]",
      "text/plain": [
       "<Figure size 576x576 with 1 Axes>"
      ]
     },
     "metadata": {},
     "output_type": "display_data"
    }
   ],
   "source": [
    "#base_color = sns.color_palette()[0]\n",
    "sns.set(style=\"whitegrid\", palette=\"pastel\", color_codes=True)\n",
    "f, ax = plt.subplots(figsize=(8, 8))\n",
    "sns.violinplot(data=expl_bike_data, x='start_day_of_week', y='distance', hue='member_gender');\n",
    "plt.title(\"Distance Travelled for Weekday Grouped by Gender\", fontsize=14)\n",
    "plt.xlabel(\"Week Day\", size=12)\n",
    "plt.ylabel(\"Distance Travelled (Km)\", size=12);"
   ]
  },
  {
   "cell_type": "markdown",
   "metadata": {},
   "source": [
    "The Distance travelled seems relative across each gender. The only spike notied in this data was a trip on of Approximately 64km made on Tuesday by a Female. The mean for each trip distance is about `1.5km`"
   ]
  },
  {
   "cell_type": "code",
   "execution_count": 151,
   "metadata": {},
   "outputs": [
    {
     "data": {
      "image/png": "[encoded data removed]",
      "text/plain": [
       "<Figure size 1440x360 with 2 Axes>"
      ]
     },
     "metadata": {},
     "output_type": "display_data"
    }
   ],
   "source": [
    "#Resize figure to accomodate two plots\n",
    "plt.figure(figsize=[20, 5])\n",
    "\n",
    "#Plot on left - Simple scatter\n",
    "plt.subplot(1,2,1)\n",
    "sns.regplot(data = expl_bike_data, x = 'duration_minutes', y = 'distance', truncate=False)\n",
    "\n",
    "#Plot on right - Scatter plot with Jitter\n",
    "plt.subplot(1,2,2)\n",
    "sns.regplot(data = expl_bike_data, x = 'duration_minutes', y = 'distance', truncate=False, x_jitter=1);"
   ]
  },
  {
   "cell_type": "markdown",
   "metadata": {},
   "source": [
    "Applying jitter didnt give much difference to the data. But the plot shows a positive correlation, a pointer that as disctance increases the duration also increases."
   ]
  },
  {
   "cell_type": "code",
   "execution_count": 95,
   "metadata": {},
   "outputs": [
    {
     "data": {
      "image/png": "[encoded data removed]",
      "text/plain": [
       "<Figure size 432x288 with 2 Axes>"
      ]
     },
     "metadata": {},
     "output_type": "display_data"
    }
   ],
   "source": [
    "cat_means=expl_bike_data.groupby(['member_gender','user_type']).mean()['member_age']\n",
    "cat_means = cat_means.reset_index(name = 'age_avg')\n",
    "cat_means = cat_means.pivot(index = 'user_type', columns = 'member_gender',\n",
    "                            values = 'age_avg')\n",
    "sns.heatmap(cat_means, annot = True, fmt = '.3f',\n",
    "           cbar_kws = {'label' : 'mean(age)'});\n",
    "plt.title(\"Mean Age for Riders based on Gender and User Type\", fontsize=14)\n",
    "plt.xlabel(\"Gender\", size=12)\n",
    "plt.ylabel(\"User Type\", size=12);"
   ]
  },
  {
   "cell_type": "code",
   "execution_count": 90,
   "metadata": {},
   "outputs": [
    {
     "data": {
      "text/html": [
       "<div>\n",
       "<style scoped>\n",
       "    .dataframe tbody tr th:only-of-type {\n",
       "        vertical-align: middle;\n",
       "    }\n",
       "\n",
       "    .dataframe tbody tr th {\n",
       "        vertical-align: top;\n",
       "    }\n",
       "\n",
       "    .dataframe thead th {\n",
       "        text-align: right;\n",
       "    }\n",
       "</style>\n",
       "<table border=\"1\" class=\"dataframe\">\n",
       "  <thead>\n",
       "    <tr style=\"text-align: right;\">\n",
       "      <th></th>\n",
       "      <th>start_station_name</th>\n",
       "      <th>end_station_name</th>\n",
       "      <th>bike_id</th>\n",
       "      <th>user_type</th>\n",
       "      <th>member_gender</th>\n",
       "      <th>bike_share_for_all_trip</th>\n",
       "      <th>duration_hms</th>\n",
       "      <th>duration_minutes</th>\n",
       "      <th>member_age</th>\n",
       "      <th>start_day_of_week</th>\n",
       "      <th>end_day_of_week</th>\n",
       "      <th>distance</th>\n",
       "    </tr>\n",
       "  </thead>\n",
       "  <tbody>\n",
       "    <tr>\n",
       "      <th>0</th>\n",
       "      <td>Montgomery St BART Station (Market St at 2nd St)</td>\n",
       "      <td>Commercial St at Montgomery St</td>\n",
       "      <td>4902</td>\n",
       "      <td>Customer</td>\n",
       "      <td>Male</td>\n",
       "      <td>No</td>\n",
       "      <td>14:29:45</td>\n",
       "      <td>869.75</td>\n",
       "      <td>34</td>\n",
       "      <td>Thursday</td>\n",
       "      <td>Friday</td>\n",
       "      <td>0.361191</td>\n",
       "    </tr>\n",
       "    <tr>\n",
       "      <th>2</th>\n",
       "      <td>Market St at Dolores St</td>\n",
       "      <td>Powell St BART Station (Market St at 4th St)</td>\n",
       "      <td>5905</td>\n",
       "      <td>Customer</td>\n",
       "      <td>Male</td>\n",
       "      <td>No</td>\n",
       "      <td>17:10:54</td>\n",
       "      <td>1030.90</td>\n",
       "      <td>46</td>\n",
       "      <td>Thursday</td>\n",
       "      <td>Friday</td>\n",
       "      <td>2.641372</td>\n",
       "    </tr>\n",
       "  </tbody>\n",
       "</table>\n",
       "</div>"
      ],
      "text/plain": [
       "                                 start_station_name  \\\n",
       "0  Montgomery St BART Station (Market St at 2nd St)   \n",
       "2                           Market St at Dolores St   \n",
       "\n",
       "                               end_station_name  bike_id user_type  \\\n",
       "0                Commercial St at Montgomery St     4902  Customer   \n",
       "2  Powell St BART Station (Market St at 4th St)     5905  Customer   \n",
       "\n",
       "  member_gender bike_share_for_all_trip duration_hms  duration_minutes  \\\n",
       "0          Male                      No     14:29:45            869.75   \n",
       "2          Male                      No     17:10:54           1030.90   \n",
       "\n",
       "   member_age start_day_of_week end_day_of_week  distance  \n",
       "0          34          Thursday          Friday  0.361191  \n",
       "2          46          Thursday          Friday  2.641372  "
      ]
     },
     "execution_count": 90,
     "metadata": {},
     "output_type": "execute_result"
    }
   ],
   "source": [
    "expl_bike_data.head(2)"
   ]
  },
  {
   "cell_type": "code",
   "execution_count": null,
   "metadata": {},
   "outputs": [],
   "source": [
    "trip frequency by minutes"
   ]
  },
  {
   "cell_type": "code",
   "execution_count": 84,
   "metadata": {},
   "outputs": [
    {
     "ename": "TypeError",
     "evalue": "sort_values() missing 1 required positional argument: 'by'",
     "output_type": "error",
     "traceback": [
      "\u001b[1;31m---------------------------------------------------------------------------\u001b[0m",
      "\u001b[1;31mTypeError\u001b[0m                                 Traceback (most recent call last)",
      "\u001b[1;32m<ipython-input-84-021f43da2836>\u001b[0m in \u001b[0;36m<module>\u001b[1;34m\u001b[0m\n\u001b[1;32m----> 1\u001b[1;33m \u001b[0mcount\u001b[0m\u001b[1;33m=\u001b[0m\u001b[0mexpl_bike_data\u001b[0m\u001b[1;33m.\u001b[0m\u001b[0mgroupby\u001b[0m\u001b[1;33m(\u001b[0m\u001b[1;33m[\u001b[0m\u001b[1;34m'duration_minutes'\u001b[0m\u001b[1;33m]\u001b[0m\u001b[1;33m)\u001b[0m\u001b[1;33m.\u001b[0m\u001b[0mcount\u001b[0m\u001b[1;33m(\u001b[0m\u001b[1;33m)\u001b[0m\u001b[1;33m.\u001b[0m\u001b[0mreset_index\u001b[0m\u001b[1;33m(\u001b[0m\u001b[1;33m)\u001b[0m\u001b[1;33m.\u001b[0m\u001b[0msort_values\u001b[0m\u001b[1;33m(\u001b[0m \u001b[0mascending\u001b[0m\u001b[1;33m=\u001b[0m\u001b[1;32mFalse\u001b[0m\u001b[1;33m)\u001b[0m\u001b[1;33m\u001b[0m\u001b[1;33m\u001b[0m\u001b[0m\n\u001b[0m\u001b[0;32m      2\u001b[0m \u001b[0mcount\u001b[0m\u001b[1;33m\u001b[0m\u001b[1;33m\u001b[0m\u001b[0m\n",
      "\u001b[1;31mTypeError\u001b[0m: sort_values() missing 1 required positional argument: 'by'"
     ]
    }
   ],
   "source": [
    "count=expl_bike_data.groupby(['duration_minutes']).count().reset_index().sort_values( ascending=False)\n",
    "count"
   ]
  },
  {
   "cell_type": "code",
   "execution_count": null,
   "metadata": {},
   "outputs": [],
   "source": [
    "trip frequency by day of the week"
   ]
  },
  {
   "cell_type": "code",
   "execution_count": null,
   "metadata": {},
   "outputs": [],
   "source": []
  },
  {
   "cell_type": "markdown",
   "metadata": {},
   "source": [
    "### RESOURCES\n",
    "\n",
    "* https://www.counterpointresearch.com/understanding-fords-gobike-user-dynamic/\n",
    "* https://www.geeksforgeeks.org/selecting-rows-in-pandas-dataframe-based-on-conditions/"
   ]
  },
  {
   "cell_type": "code",
   "execution_count": null,
   "metadata": {},
   "outputs": [],
   "source": []
  }
 ],
 "metadata": {
  "kernelspec": {
   "display_name": "Python 3",
   "language": "python",
   "name": "python3"
  },
  "language_info": {
   "codemirror_mode": {
    "name": "ipython",
    "version": 3
   },
   "file_extension": ".py",
   "mimetype": "text/x-python",
   "name": "python",
   "nbconvert_exporter": "python",
   "pygments_lexer": "ipython3",
   "version": "3.8.5"
  }
 },
 "nbformat": 4,
 "nbformat_minor": 4
}
